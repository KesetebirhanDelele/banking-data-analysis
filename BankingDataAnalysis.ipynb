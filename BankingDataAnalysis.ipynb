{
 "cells": [
  {
   "cell_type": "markdown",
   "metadata": {},
   "source": [
    "# Practice Exercise: Cleaning data & Transforming columns/features"
   ]
  },
  {
   "cell_type": "markdown",
   "metadata": {},
   "source": [
    "## Context:\n",
    "- The data is based on real anonymized Czech bank transactions and account info.\n",
    "- We'll be focusing on practicing the data cleaning, columns transformations, and other techniques that we've learned in the course. \n",
    "- But here is the original task description of the dataset publishers:\n",
    "\n",
    "*The bank wants to improve their services. For instance, the bank managers have only vague idea, who is a good client (whom to offer some additional services)   and who is a bad client (whom to watch carefully to minimize the bank losses). Fortunately, the bank stores data about their clients, the accounts (transactions within several months), the loans already granted, the credit cards issued. The bank managers hope to improve their understanding of customers and seek specific actions to improve services.*"
   ]
  },
  {
   "cell_type": "markdown",
   "metadata": {},
   "source": [
    "## Dataset Description:\n",
    "\n",
    "We'll work on three datasets (in three separate csv files):\n",
    "\n",
    "  - **account**: each record describes static characteristics of an account\n",
    "  - **transaction**: each record describes one transaction on an account\n",
    "  - **district**: each record describes districtgraphic characteristics of a district\n",
    "  \n",
    "In reality, the organizations like banks often have data stored in multiple datasets. Assume we want to study the transactional level data, we'll need to combine these three datasets together to have transactions data with account and district data."
   ]
  },
  {
   "cell_type": "markdown",
   "metadata": {},
   "source": [
    "## Objective: \n",
    "   - Examine/clean the individual dataset\n",
    "   - Combine them into a single dataset, which is subject to more cleaning\n",
    "   - Create new columns based on existing columns\n",
    "\n",
    "By the end, the new dataset is ready for more analysis."
   ]
  },
  {
   "cell_type": "markdown",
   "metadata": {},
   "source": [
    "### 1. Import the libraries"
   ]
  },
  {
   "cell_type": "code",
   "execution_count": 1,
   "metadata": {},
   "outputs": [],
   "source": [
    "import pandas as pd\n",
    "import numpy as np"
   ]
  },
  {
   "cell_type": "markdown",
   "metadata": {},
   "source": [
    "### 2. Import the data from three csv files as DataFrames `account`, `district`, `trans`\n",
    "Hint: \n",
    "- the `read_csv` function can automatically infer and load zip file, read its documentation of parameter `compression` if you are interested in details\n",
    "- you may ignore the warning when reading the `trans.csv.zip` file. It is optional to follow the warning instructions to remove it."
   ]
  },
  {
   "cell_type": "code",
   "execution_count": 2,
   "metadata": {},
   "outputs": [
    {
     "name": "stderr",
     "output_type": "stream",
     "text": [
      "c:\\Users\\keseteberhand\\Anaconda3\\lib\\site-packages\\IPython\\core\\interactiveshell.py:3444: DtypeWarning: Columns (8) have mixed types.Specify dtype option on import or set low_memory=False.\n",
      "  exec(code_obj, self.user_global_ns, self.user_ns)\n"
     ]
    }
   ],
   "source": [
    "account=pd.read_csv('account.csv')\n",
    "district=pd.read_csv('district.csv')\n",
    "trans=pd.read_csv('trans.csv')"
   ]
  },
  {
   "cell_type": "markdown",
   "metadata": {},
   "source": [
    "### 3. Look at the info summary, head of each DataFrame"
   ]
  },
  {
   "cell_type": "code",
   "execution_count": 3,
   "metadata": {},
   "outputs": [
    {
     "data": {
      "text/html": [
       "<div>\n",
       "<style scoped>\n",
       "    .dataframe tbody tr th:only-of-type {\n",
       "        vertical-align: middle;\n",
       "    }\n",
       "\n",
       "    .dataframe tbody tr th {\n",
       "        vertical-align: top;\n",
       "    }\n",
       "\n",
       "    .dataframe thead th {\n",
       "        text-align: right;\n",
       "    }\n",
       "</style>\n",
       "<table border=\"1\" class=\"dataframe\">\n",
       "  <thead>\n",
       "    <tr style=\"text-align: right;\">\n",
       "      <th></th>\n",
       "      <th>account_id</th>\n",
       "      <th>district_id</th>\n",
       "      <th>frequency</th>\n",
       "      <th>account_open_date</th>\n",
       "      <th>client_id</th>\n",
       "    </tr>\n",
       "  </thead>\n",
       "  <tbody>\n",
       "    <tr>\n",
       "      <th>0</th>\n",
       "      <td>576</td>\n",
       "      <td>55</td>\n",
       "      <td>MONTHLY STATEMENTS</td>\n",
       "      <td>1993-01-01</td>\n",
       "      <td>692</td>\n",
       "    </tr>\n",
       "    <tr>\n",
       "      <th>1</th>\n",
       "      <td>3818</td>\n",
       "      <td>74</td>\n",
       "      <td>MONTHLY STATEMENTS</td>\n",
       "      <td>1993-01-01</td>\n",
       "      <td>4601</td>\n",
       "    </tr>\n",
       "    <tr>\n",
       "      <th>2</th>\n",
       "      <td>704</td>\n",
       "      <td>55</td>\n",
       "      <td>MONTHLY STATEMENTS</td>\n",
       "      <td>1993-01-01</td>\n",
       "      <td>844</td>\n",
       "    </tr>\n",
       "    <tr>\n",
       "      <th>3</th>\n",
       "      <td>2378</td>\n",
       "      <td>16</td>\n",
       "      <td>MONTHLY STATEMENTS</td>\n",
       "      <td>1993-01-01</td>\n",
       "      <td>2873</td>\n",
       "    </tr>\n",
       "    <tr>\n",
       "      <th>4</th>\n",
       "      <td>2632</td>\n",
       "      <td>24</td>\n",
       "      <td>MONTHLY STATEMENTS</td>\n",
       "      <td>1993-01-02</td>\n",
       "      <td>3177</td>\n",
       "    </tr>\n",
       "  </tbody>\n",
       "</table>\n",
       "</div>"
      ],
      "text/plain": [
       "   account_id  district_id           frequency account_open_date  client_id\n",
       "0         576           55  MONTHLY STATEMENTS        1993-01-01        692\n",
       "1        3818           74  MONTHLY STATEMENTS        1993-01-01       4601\n",
       "2         704           55  MONTHLY STATEMENTS        1993-01-01        844\n",
       "3        2378           16  MONTHLY STATEMENTS        1993-01-01       2873\n",
       "4        2632           24  MONTHLY STATEMENTS        1993-01-02       3177"
      ]
     },
     "execution_count": 3,
     "metadata": {},
     "output_type": "execute_result"
    }
   ],
   "source": [
    "account.head()"
   ]
  },
  {
   "cell_type": "code",
   "execution_count": 4,
   "metadata": {},
   "outputs": [
    {
     "data": {
      "text/html": [
       "<div>\n",
       "<style scoped>\n",
       "    .dataframe tbody tr th:only-of-type {\n",
       "        vertical-align: middle;\n",
       "    }\n",
       "\n",
       "    .dataframe tbody tr th {\n",
       "        vertical-align: top;\n",
       "    }\n",
       "\n",
       "    .dataframe thead th {\n",
       "        text-align: right;\n",
       "    }\n",
       "</style>\n",
       "<table border=\"1\" class=\"dataframe\">\n",
       "  <thead>\n",
       "    <tr style=\"text-align: right;\">\n",
       "      <th></th>\n",
       "      <th>district_id</th>\n",
       "      <th>district_name</th>\n",
       "      <th>region</th>\n",
       "      <th>population</th>\n",
       "      <th>average_salary</th>\n",
       "      <th>unemployment_rate</th>\n",
       "      <th>num_committed_crimes</th>\n",
       "    </tr>\n",
       "  </thead>\n",
       "  <tbody>\n",
       "    <tr>\n",
       "      <th>0</th>\n",
       "      <td>1</td>\n",
       "      <td>Hl.m. Praha</td>\n",
       "      <td>Prague</td>\n",
       "      <td>1204953</td>\n",
       "      <td>12541.0</td>\n",
       "      <td>0.43</td>\n",
       "      <td>99107.0</td>\n",
       "    </tr>\n",
       "    <tr>\n",
       "      <th>1</th>\n",
       "      <td>2</td>\n",
       "      <td>Benesov</td>\n",
       "      <td>central Bohemia</td>\n",
       "      <td>88884</td>\n",
       "      <td>NaN</td>\n",
       "      <td>NaN</td>\n",
       "      <td>2674.0</td>\n",
       "    </tr>\n",
       "    <tr>\n",
       "      <th>2</th>\n",
       "      <td>3</td>\n",
       "      <td>Beroun</td>\n",
       "      <td>central Bohemia</td>\n",
       "      <td>75232</td>\n",
       "      <td>8980.0</td>\n",
       "      <td>2.21</td>\n",
       "      <td>2813.0</td>\n",
       "    </tr>\n",
       "    <tr>\n",
       "      <th>3</th>\n",
       "      <td>4</td>\n",
       "      <td>Kladno</td>\n",
       "      <td>central Bohemia</td>\n",
       "      <td>149893</td>\n",
       "      <td>9753.0</td>\n",
       "      <td>5.05</td>\n",
       "      <td>NaN</td>\n",
       "    </tr>\n",
       "    <tr>\n",
       "      <th>4</th>\n",
       "      <td>5</td>\n",
       "      <td>Kolin</td>\n",
       "      <td>central Bohemia</td>\n",
       "      <td>95616</td>\n",
       "      <td>9307.0</td>\n",
       "      <td>4.43</td>\n",
       "      <td>NaN</td>\n",
       "    </tr>\n",
       "  </tbody>\n",
       "</table>\n",
       "</div>"
      ],
      "text/plain": [
       "   district_id district_name           region  population  average_salary  \\\n",
       "0            1   Hl.m. Praha           Prague     1204953         12541.0   \n",
       "1            2       Benesov  central Bohemia       88884             NaN   \n",
       "2            3        Beroun  central Bohemia       75232          8980.0   \n",
       "3            4        Kladno  central Bohemia      149893          9753.0   \n",
       "4            5         Kolin  central Bohemia       95616          9307.0   \n",
       "\n",
       "   unemployment_rate  num_committed_crimes  \n",
       "0               0.43               99107.0  \n",
       "1                NaN                2674.0  \n",
       "2               2.21                2813.0  \n",
       "3               5.05                   NaN  \n",
       "4               4.43                   NaN  "
      ]
     },
     "execution_count": 4,
     "metadata": {},
     "output_type": "execute_result"
    }
   ],
   "source": [
    "district.head()"
   ]
  },
  {
   "cell_type": "code",
   "execution_count": 5,
   "metadata": {},
   "outputs": [
    {
     "data": {
      "text/html": [
       "<div>\n",
       "<style scoped>\n",
       "    .dataframe tbody tr th:only-of-type {\n",
       "        vertical-align: middle;\n",
       "    }\n",
       "\n",
       "    .dataframe tbody tr th {\n",
       "        vertical-align: top;\n",
       "    }\n",
       "\n",
       "    .dataframe thead th {\n",
       "        text-align: right;\n",
       "    }\n",
       "</style>\n",
       "<table border=\"1\" class=\"dataframe\">\n",
       "  <thead>\n",
       "    <tr style=\"text-align: right;\">\n",
       "      <th></th>\n",
       "      <th>trans_id</th>\n",
       "      <th>account_id</th>\n",
       "      <th>date</th>\n",
       "      <th>type</th>\n",
       "      <th>operation_type</th>\n",
       "      <th>amount</th>\n",
       "      <th>balance</th>\n",
       "      <th>description</th>\n",
       "      <th>partner_bank</th>\n",
       "      <th>partner_account</th>\n",
       "    </tr>\n",
       "  </thead>\n",
       "  <tbody>\n",
       "    <tr>\n",
       "      <th>0</th>\n",
       "      <td>695247</td>\n",
       "      <td>2378</td>\n",
       "      <td>1993-01-01</td>\n",
       "      <td>CREDIT</td>\n",
       "      <td>CREDIT IN CASH</td>\n",
       "      <td>700.0</td>\n",
       "      <td>700.0</td>\n",
       "      <td>NaN</td>\n",
       "      <td>NaN</td>\n",
       "      <td>NaN</td>\n",
       "    </tr>\n",
       "    <tr>\n",
       "      <th>1</th>\n",
       "      <td>171812</td>\n",
       "      <td>576</td>\n",
       "      <td>1993-01-01</td>\n",
       "      <td>CREDIT</td>\n",
       "      <td>CREDIT IN CASH</td>\n",
       "      <td>900.0</td>\n",
       "      <td>900.0</td>\n",
       "      <td>NaN</td>\n",
       "      <td>NaN</td>\n",
       "      <td>NaN</td>\n",
       "    </tr>\n",
       "    <tr>\n",
       "      <th>2</th>\n",
       "      <td>207264</td>\n",
       "      <td>704</td>\n",
       "      <td>1993-01-01</td>\n",
       "      <td>CREDIT</td>\n",
       "      <td>CREDIT IN CASH</td>\n",
       "      <td>1000.0</td>\n",
       "      <td>1000.0</td>\n",
       "      <td>NaN</td>\n",
       "      <td>NaN</td>\n",
       "      <td>NaN</td>\n",
       "    </tr>\n",
       "    <tr>\n",
       "      <th>3</th>\n",
       "      <td>1117247</td>\n",
       "      <td>3818</td>\n",
       "      <td>1993-01-01</td>\n",
       "      <td>CREDIT</td>\n",
       "      <td>CREDIT IN CASH</td>\n",
       "      <td>600.0</td>\n",
       "      <td>600.0</td>\n",
       "      <td>NaN</td>\n",
       "      <td>NaN</td>\n",
       "      <td>NaN</td>\n",
       "    </tr>\n",
       "    <tr>\n",
       "      <th>4</th>\n",
       "      <td>579373</td>\n",
       "      <td>1972</td>\n",
       "      <td>1993-01-02</td>\n",
       "      <td>CREDIT</td>\n",
       "      <td>CREDIT IN CASH</td>\n",
       "      <td>400.0</td>\n",
       "      <td>400.0</td>\n",
       "      <td>NaN</td>\n",
       "      <td>NaN</td>\n",
       "      <td>NaN</td>\n",
       "    </tr>\n",
       "  </tbody>\n",
       "</table>\n",
       "</div>"
      ],
      "text/plain": [
       "   trans_id  account_id        date    type  operation_type  amount  balance  \\\n",
       "0    695247        2378  1993-01-01  CREDIT  CREDIT IN CASH   700.0    700.0   \n",
       "1    171812         576  1993-01-01  CREDIT  CREDIT IN CASH   900.0    900.0   \n",
       "2    207264         704  1993-01-01  CREDIT  CREDIT IN CASH  1000.0   1000.0   \n",
       "3   1117247        3818  1993-01-01  CREDIT  CREDIT IN CASH   600.0    600.0   \n",
       "4    579373        1972  1993-01-02  CREDIT  CREDIT IN CASH   400.0    400.0   \n",
       "\n",
       "  description partner_bank  partner_account  \n",
       "0         NaN          NaN              NaN  \n",
       "1         NaN          NaN              NaN  \n",
       "2         NaN          NaN              NaN  \n",
       "3         NaN          NaN              NaN  \n",
       "4         NaN          NaN              NaN  "
      ]
     },
     "execution_count": 5,
     "metadata": {},
     "output_type": "execute_result"
    }
   ],
   "source": [
    "trans.head()"
   ]
  },
  {
   "cell_type": "markdown",
   "metadata": {},
   "source": [
    "### 4. Check for the unique values and their counts in each column for the three DataFrames"
   ]
  },
  {
   "cell_type": "code",
   "execution_count": 6,
   "metadata": {},
   "outputs": [
    {
     "name": "stdout",
     "output_type": "stream",
     "text": [
      "<class 'pandas.core.frame.DataFrame'>\n",
      "RangeIndex: 4500 entries, 0 to 4499\n",
      "Data columns (total 5 columns):\n",
      " #   Column             Non-Null Count  Dtype \n",
      "---  ------             --------------  ----- \n",
      " 0   account_id         4500 non-null   int64 \n",
      " 1   district_id        4500 non-null   int64 \n",
      " 2   frequency          4500 non-null   object\n",
      " 3   account_open_date  4500 non-null   object\n",
      " 4   client_id          4500 non-null   int64 \n",
      "dtypes: int64(3), object(2)\n",
      "memory usage: 175.9+ KB\n"
     ]
    }
   ],
   "source": [
    "account.info()"
   ]
  },
  {
   "cell_type": "code",
   "execution_count": 7,
   "metadata": {},
   "outputs": [
    {
     "name": "stdout",
     "output_type": "stream",
     "text": [
      "<class 'pandas.core.frame.DataFrame'>\n",
      "RangeIndex: 76 entries, 0 to 75\n",
      "Data columns (total 7 columns):\n",
      " #   Column                Non-Null Count  Dtype  \n",
      "---  ------                --------------  -----  \n",
      " 0   district_id           76 non-null     int64  \n",
      " 1   district_name         76 non-null     object \n",
      " 2   region                76 non-null     object \n",
      " 3   population            76 non-null     int64  \n",
      " 4   average_salary        66 non-null     float64\n",
      " 5   unemployment_rate     66 non-null     float64\n",
      " 6   num_committed_crimes  67 non-null     float64\n",
      "dtypes: float64(3), int64(2), object(2)\n",
      "memory usage: 4.3+ KB\n"
     ]
    }
   ],
   "source": [
    "district.info()"
   ]
  },
  {
   "cell_type": "code",
   "execution_count": 8,
   "metadata": {},
   "outputs": [
    {
     "name": "stdout",
     "output_type": "stream",
     "text": [
      "<class 'pandas.core.frame.DataFrame'>\n",
      "RangeIndex: 1056320 entries, 0 to 1056319\n",
      "Data columns (total 10 columns):\n",
      " #   Column           Non-Null Count    Dtype  \n",
      "---  ------           --------------    -----  \n",
      " 0   trans_id         1056320 non-null  int64  \n",
      " 1   account_id       1056320 non-null  int64  \n",
      " 2   date             1056320 non-null  object \n",
      " 3   type             1056320 non-null  object \n",
      " 4   operation_type   873206 non-null   object \n",
      " 5   amount           1056320 non-null  float64\n",
      " 6   balance          1056320 non-null  float64\n",
      " 7   description      574439 non-null   object \n",
      " 8   partner_bank     273508 non-null   object \n",
      " 9   partner_account  295389 non-null   float64\n",
      "dtypes: float64(3), int64(2), object(5)\n",
      "memory usage: 80.6+ MB\n"
     ]
    }
   ],
   "source": [
    "trans.info()"
   ]
  },
  {
   "cell_type": "markdown",
   "metadata": {},
   "source": [
    "### 5. Check for duplicates in the three DataFrames"
   ]
  },
  {
   "cell_type": "code",
   "execution_count": 9,
   "metadata": {},
   "outputs": [
    {
     "data": {
      "text/plain": [
       "account_id           4500\n",
       "district_id            77\n",
       "frequency               3\n",
       "account_open_date    1535\n",
       "client_id            4500\n",
       "dtype: int64"
      ]
     },
     "execution_count": 9,
     "metadata": {},
     "output_type": "execute_result"
    }
   ],
   "source": [
    "account.nunique()"
   ]
  },
  {
   "cell_type": "code",
   "execution_count": 10,
   "metadata": {},
   "outputs": [
    {
     "data": {
      "text/html": [
       "<div>\n",
       "<style scoped>\n",
       "    .dataframe tbody tr th:only-of-type {\n",
       "        vertical-align: middle;\n",
       "    }\n",
       "\n",
       "    .dataframe tbody tr th {\n",
       "        vertical-align: top;\n",
       "    }\n",
       "\n",
       "    .dataframe thead th {\n",
       "        text-align: right;\n",
       "    }\n",
       "</style>\n",
       "<table border=\"1\" class=\"dataframe\">\n",
       "  <thead>\n",
       "    <tr style=\"text-align: right;\">\n",
       "      <th></th>\n",
       "      <th>account_id</th>\n",
       "      <th>district_id</th>\n",
       "      <th>frequency</th>\n",
       "      <th>account_open_date</th>\n",
       "      <th>client_id</th>\n",
       "    </tr>\n",
       "  </thead>\n",
       "  <tbody>\n",
       "  </tbody>\n",
       "</table>\n",
       "</div>"
      ],
      "text/plain": [
       "Empty DataFrame\n",
       "Columns: [account_id, district_id, frequency, account_open_date, client_id]\n",
       "Index: []"
      ]
     },
     "execution_count": 10,
     "metadata": {},
     "output_type": "execute_result"
    }
   ],
   "source": [
    "account[account.duplicated()]"
   ]
  },
  {
   "cell_type": "code",
   "execution_count": 11,
   "metadata": {},
   "outputs": [
    {
     "data": {
      "text/plain": [
       "district_id             76\n",
       "district_name           76\n",
       "region                   8\n",
       "population              76\n",
       "average_salary          65\n",
       "unemployment_rate       63\n",
       "num_committed_crimes    66\n",
       "dtype: int64"
      ]
     },
     "execution_count": 11,
     "metadata": {},
     "output_type": "execute_result"
    }
   ],
   "source": [
    "district.nunique()"
   ]
  },
  {
   "cell_type": "code",
   "execution_count": 12,
   "metadata": {},
   "outputs": [
    {
     "data": {
      "text/html": [
       "<div>\n",
       "<style scoped>\n",
       "    .dataframe tbody tr th:only-of-type {\n",
       "        vertical-align: middle;\n",
       "    }\n",
       "\n",
       "    .dataframe tbody tr th {\n",
       "        vertical-align: top;\n",
       "    }\n",
       "\n",
       "    .dataframe thead th {\n",
       "        text-align: right;\n",
       "    }\n",
       "</style>\n",
       "<table border=\"1\" class=\"dataframe\">\n",
       "  <thead>\n",
       "    <tr style=\"text-align: right;\">\n",
       "      <th></th>\n",
       "      <th>district_id</th>\n",
       "      <th>district_name</th>\n",
       "      <th>region</th>\n",
       "      <th>population</th>\n",
       "      <th>average_salary</th>\n",
       "      <th>unemployment_rate</th>\n",
       "      <th>num_committed_crimes</th>\n",
       "    </tr>\n",
       "  </thead>\n",
       "  <tbody>\n",
       "  </tbody>\n",
       "</table>\n",
       "</div>"
      ],
      "text/plain": [
       "Empty DataFrame\n",
       "Columns: [district_id, district_name, region, population, average_salary, unemployment_rate, num_committed_crimes]\n",
       "Index: []"
      ]
     },
     "execution_count": 12,
     "metadata": {},
     "output_type": "execute_result"
    }
   ],
   "source": [
    "district[district.duplicated()]"
   ]
  },
  {
   "cell_type": "code",
   "execution_count": 13,
   "metadata": {},
   "outputs": [
    {
     "data": {
      "text/plain": [
       "trans_id           1056320\n",
       "account_id            4500\n",
       "date                  2191\n",
       "type                     2\n",
       "operation_type           5\n",
       "amount               40400\n",
       "balance             542739\n",
       "description              8\n",
       "partner_bank            13\n",
       "partner_account       7665\n",
       "dtype: int64"
      ]
     },
     "execution_count": 13,
     "metadata": {},
     "output_type": "execute_result"
    }
   ],
   "source": [
    "trans.nunique()"
   ]
  },
  {
   "cell_type": "code",
   "execution_count": 14,
   "metadata": {},
   "outputs": [
    {
     "data": {
      "text/html": [
       "<div>\n",
       "<style scoped>\n",
       "    .dataframe tbody tr th:only-of-type {\n",
       "        vertical-align: middle;\n",
       "    }\n",
       "\n",
       "    .dataframe tbody tr th {\n",
       "        vertical-align: top;\n",
       "    }\n",
       "\n",
       "    .dataframe thead th {\n",
       "        text-align: right;\n",
       "    }\n",
       "</style>\n",
       "<table border=\"1\" class=\"dataframe\">\n",
       "  <thead>\n",
       "    <tr style=\"text-align: right;\">\n",
       "      <th></th>\n",
       "      <th>trans_id</th>\n",
       "      <th>account_id</th>\n",
       "      <th>date</th>\n",
       "      <th>type</th>\n",
       "      <th>operation_type</th>\n",
       "      <th>amount</th>\n",
       "      <th>balance</th>\n",
       "      <th>description</th>\n",
       "      <th>partner_bank</th>\n",
       "      <th>partner_account</th>\n",
       "    </tr>\n",
       "  </thead>\n",
       "  <tbody>\n",
       "  </tbody>\n",
       "</table>\n",
       "</div>"
      ],
      "text/plain": [
       "Empty DataFrame\n",
       "Columns: [trans_id, account_id, date, type, operation_type, amount, balance, description, partner_bank, partner_account]\n",
       "Index: []"
      ]
     },
     "execution_count": 14,
     "metadata": {},
     "output_type": "execute_result"
    }
   ],
   "source": [
    "trans[trans.duplicated()]"
   ]
  },
  {
   "cell_type": "markdown",
   "metadata": {},
   "source": [
    "### 6. Convert column `account_open_date` in `account` and column `date` in `trans` into datetime dtypes"
   ]
  },
  {
   "cell_type": "code",
   "execution_count": 15,
   "metadata": {},
   "outputs": [],
   "source": [
    "account[\"account_open_date\"]=pd.to_datetime(account[\"account_open_date\"], format='%Y-%m-%d')"
   ]
  },
  {
   "cell_type": "code",
   "execution_count": 16,
   "metadata": {},
   "outputs": [
    {
     "name": "stdout",
     "output_type": "stream",
     "text": [
      "<class 'pandas.core.frame.DataFrame'>\n",
      "RangeIndex: 4500 entries, 0 to 4499\n",
      "Data columns (total 5 columns):\n",
      " #   Column             Non-Null Count  Dtype         \n",
      "---  ------             --------------  -----         \n",
      " 0   account_id         4500 non-null   int64         \n",
      " 1   district_id        4500 non-null   int64         \n",
      " 2   frequency          4500 non-null   object        \n",
      " 3   account_open_date  4500 non-null   datetime64[ns]\n",
      " 4   client_id          4500 non-null   int64         \n",
      "dtypes: datetime64[ns](1), int64(3), object(1)\n",
      "memory usage: 175.9+ KB\n"
     ]
    }
   ],
   "source": [
    "account.info()"
   ]
  },
  {
   "cell_type": "code",
   "execution_count": 17,
   "metadata": {},
   "outputs": [],
   "source": [
    "trans[\"trans_date\"]=pd.to_datetime(trans[\"date\"], format='%Y-%m-%d')"
   ]
  },
  {
   "cell_type": "code",
   "execution_count": 18,
   "metadata": {},
   "outputs": [
    {
     "name": "stdout",
     "output_type": "stream",
     "text": [
      "<class 'pandas.core.frame.DataFrame'>\n",
      "RangeIndex: 1056320 entries, 0 to 1056319\n",
      "Data columns (total 11 columns):\n",
      " #   Column           Non-Null Count    Dtype         \n",
      "---  ------           --------------    -----         \n",
      " 0   trans_id         1056320 non-null  int64         \n",
      " 1   account_id       1056320 non-null  int64         \n",
      " 2   date             1056320 non-null  object        \n",
      " 3   type             1056320 non-null  object        \n",
      " 4   operation_type   873206 non-null   object        \n",
      " 5   amount           1056320 non-null  float64       \n",
      " 6   balance          1056320 non-null  float64       \n",
      " 7   description      574439 non-null   object        \n",
      " 8   partner_bank     273508 non-null   object        \n",
      " 9   partner_account  295389 non-null   float64       \n",
      " 10  trans_date       1056320 non-null  datetime64[ns]\n",
      "dtypes: datetime64[ns](1), float64(3), int64(2), object(5)\n",
      "memory usage: 88.7+ MB\n"
     ]
    }
   ],
   "source": [
    "trans.info()"
   ]
  },
  {
   "cell_type": "markdown",
   "metadata": {},
   "source": [
    "### 7. Convert the columns `region` and `district_name` in `district` to all uppercase"
   ]
  },
  {
   "cell_type": "code",
   "execution_count": 19,
   "metadata": {},
   "outputs": [
    {
     "data": {
      "text/plain": [
       "list[{'CENTRAL BOHEMIA', 'SOUTH BOHEMIA', 'PRAGUE', 'SOUTH MORAVIA', 'NORTH BOHEMIA', 'NORTH MORAVIA', 'EAST BOHEMIA', 'WEST BOHEMIA'}]"
      ]
     },
     "execution_count": 19,
     "metadata": {},
     "output_type": "execute_result"
    }
   ],
   "source": [
    "district['region'] = district['region'].str.upper()\n",
    "list[set(district['region'])]"
   ]
  },
  {
   "cell_type": "code",
   "execution_count": 20,
   "metadata": {},
   "outputs": [
    {
     "data": {
      "text/plain": [
       "list[{'KARVINA', 'KUTNA HORA', 'MOST', 'KLADNO', 'STRAKONICE', 'PLZEN - MESTO', 'PISEK', 'PARDUBICE', 'BLANSKO', 'ZNOJMO', 'DOMAZLICE', 'PELHRIMOV', 'BRNO - VENKOV', 'JABLONEC N. NISOU', 'BEROUN', 'LITOMERICE', 'PLZEN - SEVER', 'PRIBRAM', 'SVITAVY', 'BRUNTAL', 'HL.M. PRAHA', 'TEPLICE', 'USTI NAD ORLICI', 'HRADEC KRALOVE', 'SOKOLOV', 'CESKA LIPA', 'CHRUDIM', 'NOVY JICIN', 'KARLOVY VARY', 'OLOMOUC', 'SUMPERK', 'KLATOVY', 'CESKE BUDEJOVICE', 'TACHOV', 'HAVLICKUV BROD', 'FRYDEK - MISTEK', 'PLZEN - JIH', 'RYCHNOV NAD KNEZNOU', 'TREBIC', 'ZDAR NAD SAZAVOU', 'TABOR', 'ZLIN', 'LOUNY', 'KOLIN', 'SEMILY', 'BENESOV', 'RAKOVNIK', 'LIBEREC', 'HODONIN', 'VYSKOV', 'ROKYCANY', 'USTI NAD LABEM', 'JIHLAVA', 'PREROV', 'JINDRICHUV HRADEC', 'CESKY KRUMLOV', 'PRACHATICE', 'JICIN', 'BRNO - MESTO', 'JESENIK', 'OPAVA', 'CHOMUTOV', 'PROSTEJOV', 'OSTRAVA - MESTO', 'KROMERIZ', 'MLADA BOLESLAV', 'DECIN', 'MELNIK', 'PRAHA - ZAPAD', 'PRAHA - VYCHOD', 'NACHOD', 'TRUTNOV', 'CHEB', 'UHERSKE HRADISTE', 'BRECLAV', 'NYMBURK'}]"
      ]
     },
     "execution_count": 20,
     "metadata": {},
     "output_type": "execute_result"
    }
   ],
   "source": [
    "district['district_name'] = district['district_name'].str.upper()\n",
    "list[set(district['district_name'])]"
   ]
  },
  {
   "cell_type": "markdown",
   "metadata": {},
   "source": [
    "### 8. Check for missing data by columns in `account` using the `isna` method"
   ]
  },
  {
   "cell_type": "code",
   "execution_count": 21,
   "metadata": {},
   "outputs": [
    {
     "data": {
      "text/plain": [
       "account_id           0\n",
       "district_id          0\n",
       "frequency            0\n",
       "account_open_date    0\n",
       "client_id            0\n",
       "dtype: int64"
      ]
     },
     "execution_count": 21,
     "metadata": {},
     "output_type": "execute_result"
    }
   ],
   "source": [
    "account.isna().sum()"
   ]
  },
  {
   "cell_type": "markdown",
   "metadata": {},
   "source": [
    "### 9. Check for missing data by columns in `district` using the `isna` method"
   ]
  },
  {
   "cell_type": "code",
   "execution_count": 22,
   "metadata": {},
   "outputs": [
    {
     "data": {
      "text/plain": [
       "district_id              0\n",
       "district_name            0\n",
       "region                   0\n",
       "population               0\n",
       "average_salary          10\n",
       "unemployment_rate       10\n",
       "num_committed_crimes     9\n",
       "dtype: int64"
      ]
     },
     "execution_count": 22,
     "metadata": {},
     "output_type": "execute_result"
    }
   ],
   "source": [
    "# Missing values\n",
    "district.isna().sum()"
   ]
  },
  {
   "cell_type": "code",
   "execution_count": 23,
   "metadata": {},
   "outputs": [
    {
     "data": {
      "text/plain": [
       "district_id              0.000000\n",
       "district_name            0.000000\n",
       "region                   0.000000\n",
       "population               0.000000\n",
       "average_salary          13.157895\n",
       "unemployment_rate       13.157895\n",
       "num_committed_crimes    11.842105\n",
       "dtype: float64"
      ]
     },
     "execution_count": 23,
     "metadata": {},
     "output_type": "execute_result"
    }
   ],
   "source": [
    "# % Missing values\n",
    "district.isna().mean()*100"
   ]
  },
  {
   "cell_type": "markdown",
   "metadata": {},
   "source": [
    "`district` has numeric features that could have relationships with each other. Let's use iterative imputation on them."
   ]
  },
  {
   "cell_type": "markdown",
   "metadata": {},
   "source": [
    "#### Use `IterativeImputer` in `sklearn` to impute based on columns `population`, `average_salary`, `unemployment_rate`, `num_committed_crimes`"
   ]
  },
  {
   "cell_type": "markdown",
   "metadata": {},
   "source": [
    "##### Import libraries"
   ]
  },
  {
   "cell_type": "code",
   "execution_count": 24,
   "metadata": {},
   "outputs": [],
   "source": [
    "# Import IterativeImputer from sklearn.impute\n",
    "\n",
    "from sklearn.experimental import enable_iterative_imputer\n",
    "from sklearn.impute import IterativeImputer"
   ]
  },
  {
   "cell_type": "markdown",
   "metadata": {},
   "source": [
    "##### Build a list of columns that will be used for imputation, which are `population`, `average_salary`, `unemployment_rate`, `num_committed_crimes`\n",
    "These are the columns that might be related to each other "
   ]
  },
  {
   "cell_type": "code",
   "execution_count": 25,
   "metadata": {},
   "outputs": [
    {
     "data": {
      "text/html": [
       "<div>\n",
       "<style scoped>\n",
       "    .dataframe tbody tr th:only-of-type {\n",
       "        vertical-align: middle;\n",
       "    }\n",
       "\n",
       "    .dataframe tbody tr th {\n",
       "        vertical-align: top;\n",
       "    }\n",
       "\n",
       "    .dataframe thead th {\n",
       "        text-align: right;\n",
       "    }\n",
       "</style>\n",
       "<table border=\"1\" class=\"dataframe\">\n",
       "  <thead>\n",
       "    <tr style=\"text-align: right;\">\n",
       "      <th></th>\n",
       "      <th>population</th>\n",
       "      <th>average_salary</th>\n",
       "      <th>unemployment_rate</th>\n",
       "      <th>num_committed_crimes</th>\n",
       "    </tr>\n",
       "  </thead>\n",
       "  <tbody>\n",
       "    <tr>\n",
       "      <th>0</th>\n",
       "      <td>1204953</td>\n",
       "      <td>12541.0</td>\n",
       "      <td>0.43</td>\n",
       "      <td>99107.0</td>\n",
       "    </tr>\n",
       "    <tr>\n",
       "      <th>1</th>\n",
       "      <td>88884</td>\n",
       "      <td>NaN</td>\n",
       "      <td>NaN</td>\n",
       "      <td>2674.0</td>\n",
       "    </tr>\n",
       "    <tr>\n",
       "      <th>2</th>\n",
       "      <td>75232</td>\n",
       "      <td>8980.0</td>\n",
       "      <td>2.21</td>\n",
       "      <td>2813.0</td>\n",
       "    </tr>\n",
       "    <tr>\n",
       "      <th>3</th>\n",
       "      <td>149893</td>\n",
       "      <td>9753.0</td>\n",
       "      <td>5.05</td>\n",
       "      <td>NaN</td>\n",
       "    </tr>\n",
       "    <tr>\n",
       "      <th>4</th>\n",
       "      <td>95616</td>\n",
       "      <td>9307.0</td>\n",
       "      <td>4.43</td>\n",
       "      <td>NaN</td>\n",
       "    </tr>\n",
       "    <tr>\n",
       "      <th>...</th>\n",
       "      <td>...</td>\n",
       "      <td>...</td>\n",
       "      <td>...</td>\n",
       "      <td>...</td>\n",
       "    </tr>\n",
       "    <tr>\n",
       "      <th>71</th>\n",
       "      <td>226122</td>\n",
       "      <td>NaN</td>\n",
       "      <td>4.79</td>\n",
       "      <td>9208.0</td>\n",
       "    </tr>\n",
       "    <tr>\n",
       "      <th>72</th>\n",
       "      <td>182027</td>\n",
       "      <td>8746.0</td>\n",
       "      <td>3.74</td>\n",
       "      <td>4433.0</td>\n",
       "    </tr>\n",
       "    <tr>\n",
       "      <th>73</th>\n",
       "      <td>323870</td>\n",
       "      <td>10673.0</td>\n",
       "      <td>5.44</td>\n",
       "      <td>18347.0</td>\n",
       "    </tr>\n",
       "    <tr>\n",
       "      <th>74</th>\n",
       "      <td>138032</td>\n",
       "      <td>8819.0</td>\n",
       "      <td>5.66</td>\n",
       "      <td>4505.0</td>\n",
       "    </tr>\n",
       "    <tr>\n",
       "      <th>75</th>\n",
       "      <td>127369</td>\n",
       "      <td>8369.0</td>\n",
       "      <td>NaN</td>\n",
       "      <td>2807.0</td>\n",
       "    </tr>\n",
       "  </tbody>\n",
       "</table>\n",
       "<p>76 rows × 4 columns</p>\n",
       "</div>"
      ],
      "text/plain": [
       "    population  average_salary  unemployment_rate  num_committed_crimes\n",
       "0      1204953         12541.0               0.43               99107.0\n",
       "1        88884             NaN                NaN                2674.0\n",
       "2        75232          8980.0               2.21                2813.0\n",
       "3       149893          9753.0               5.05                   NaN\n",
       "4        95616          9307.0               4.43                   NaN\n",
       "..         ...             ...                ...                   ...\n",
       "71      226122             NaN               4.79                9208.0\n",
       "72      182027          8746.0               3.74                4433.0\n",
       "73      323870         10673.0               5.44               18347.0\n",
       "74      138032          8819.0               5.66                4505.0\n",
       "75      127369          8369.0                NaN                2807.0\n",
       "\n",
       "[76 rows x 4 columns]"
      ]
     },
     "execution_count": 25,
     "metadata": {},
     "output_type": "execute_result"
    }
   ],
   "source": [
    "#Define a subset of the dataset\n",
    "numeric_cols = district.filter(['population', 'average_salary', 'unemployment_rate', 'num_committed_crimes'], axis=1).copy()\n",
    "numeric_cols"
   ]
  },
  {
   "cell_type": "markdown",
   "metadata": {},
   "source": [
    "##### Create `IterativeImputer` object and set its `min_value` and `max_value` parameters to be the minumum and maximum of corresponding columns"
   ]
  },
  {
   "cell_type": "code",
   "execution_count": 26,
   "metadata": {},
   "outputs": [],
   "source": [
    "iter_imp = IterativeImputer(min_value=numeric_cols.min(), max_value=numeric_cols.max())"
   ]
  },
  {
   "cell_type": "markdown",
   "metadata": {},
   "source": [
    "##### Apply the imputer to fit and transform the columns to an imputed NumPy array"
   ]
  },
  {
   "cell_type": "code",
   "execution_count": 27,
   "metadata": {},
   "outputs": [],
   "source": [
    "imputed_cols = iter_imp.fit_transform(numeric_cols)"
   ]
  },
  {
   "cell_type": "markdown",
   "metadata": {},
   "source": [
    "##### Assign the imputed array back to the original DataFrame's columns"
   ]
  },
  {
   "cell_type": "code",
   "execution_count": 28,
   "metadata": {},
   "outputs": [],
   "source": [
    "cols_to_impute=['population','average_salary','unemployment_rate','num_committed_crimes']\n",
    "district[cols_to_impute] = imputed_cols"
   ]
  },
  {
   "cell_type": "markdown",
   "metadata": {},
   "source": [
    "##### Double check that the columns are imputed"
   ]
  },
  {
   "cell_type": "code",
   "execution_count": 29,
   "metadata": {},
   "outputs": [
    {
     "data": {
      "text/plain": [
       "district_id             0\n",
       "district_name           0\n",
       "region                  0\n",
       "population              0\n",
       "average_salary          0\n",
       "unemployment_rate       0\n",
       "num_committed_crimes    0\n",
       "dtype: int64"
      ]
     },
     "execution_count": 29,
     "metadata": {},
     "output_type": "execute_result"
    }
   ],
   "source": [
    "# Missing values after imputation\n",
    "district.isna().sum()"
   ]
  },
  {
   "cell_type": "markdown",
   "metadata": {},
   "source": [
    "### 10. Check for missing data by columns in `trans` using the `isna` method"
   ]
  },
  {
   "cell_type": "code",
   "execution_count": 30,
   "metadata": {},
   "outputs": [
    {
     "data": {
      "text/plain": [
       "trans_id                0\n",
       "account_id              0\n",
       "date                    0\n",
       "type                    0\n",
       "operation_type     183114\n",
       "amount                  0\n",
       "balance                 0\n",
       "description        481881\n",
       "partner_bank       782812\n",
       "partner_account    760931\n",
       "trans_date              0\n",
       "dtype: int64"
      ]
     },
     "execution_count": 30,
     "metadata": {},
     "output_type": "execute_result"
    }
   ],
   "source": [
    "# Missing values\n",
    "trans.isna().sum()"
   ]
  },
  {
   "cell_type": "markdown",
   "metadata": {},
   "source": [
    "#### Divide the columns into numeric columns and categorical columns, then use the `fillna` method to fill numeric columns with -999, fill categorical columns with 'UNKNOWN'"
   ]
  },
  {
   "cell_type": "code",
   "execution_count": 31,
   "metadata": {},
   "outputs": [
    {
     "name": "stdout",
     "output_type": "stream",
     "text": [
      "<class 'pandas.core.frame.DataFrame'>\n",
      "RangeIndex: 1056320 entries, 0 to 1056319\n",
      "Data columns (total 11 columns):\n",
      " #   Column           Non-Null Count    Dtype         \n",
      "---  ------           --------------    -----         \n",
      " 0   trans_id         1056320 non-null  int64         \n",
      " 1   account_id       1056320 non-null  int64         \n",
      " 2   date             1056320 non-null  object        \n",
      " 3   type             1056320 non-null  object        \n",
      " 4   operation_type   873206 non-null   object        \n",
      " 5   amount           1056320 non-null  float64       \n",
      " 6   balance          1056320 non-null  float64       \n",
      " 7   description      574439 non-null   object        \n",
      " 8   partner_bank     273508 non-null   object        \n",
      " 9   partner_account  295389 non-null   float64       \n",
      " 10  trans_date       1056320 non-null  datetime64[ns]\n",
      "dtypes: datetime64[ns](1), float64(3), int64(2), object(5)\n",
      "memory usage: 88.7+ MB\n"
     ]
    }
   ],
   "source": [
    "# Identify data types\n",
    "trans.info()"
   ]
  },
  {
   "cell_type": "code",
   "execution_count": 32,
   "metadata": {},
   "outputs": [],
   "source": [
    "# Differentiating columns into numerical and categorical data\n",
    "trans_numeric_cols=['operation_type']\n",
    "trans_categorical_cols=['description','partner_bank','partner_account']\n"
   ]
  },
  {
   "cell_type": "code",
   "execution_count": 33,
   "metadata": {},
   "outputs": [
    {
     "data": {
      "text/plain": [
       "trans_id           0\n",
       "account_id         0\n",
       "date               0\n",
       "type               0\n",
       "operation_type     0\n",
       "amount             0\n",
       "balance            0\n",
       "description        0\n",
       "partner_bank       0\n",
       "partner_account    0\n",
       "trans_date         0\n",
       "dtype: int64"
      ]
     },
     "execution_count": 33,
     "metadata": {},
     "output_type": "execute_result"
    }
   ],
   "source": [
    "trans[trans_numeric_cols]=trans[trans_numeric_cols].fillna(-999)\n",
    "trans[trans_categorical_cols]=trans[trans_categorical_cols].fillna('Unknown')\n",
    "trans.isna().sum()"
   ]
  },
  {
   "cell_type": "markdown",
   "metadata": {},
   "source": [
    "### 11. Check for outliers in `district` using the `describe` method, then look at the histograms of the suspicious columns"
   ]
  },
  {
   "cell_type": "code",
   "execution_count": 34,
   "metadata": {},
   "outputs": [
    {
     "data": {
      "text/html": [
       "<div>\n",
       "<style scoped>\n",
       "    .dataframe tbody tr th:only-of-type {\n",
       "        vertical-align: middle;\n",
       "    }\n",
       "\n",
       "    .dataframe tbody tr th {\n",
       "        vertical-align: top;\n",
       "    }\n",
       "\n",
       "    .dataframe thead th {\n",
       "        text-align: right;\n",
       "    }\n",
       "</style>\n",
       "<table border=\"1\" class=\"dataframe\">\n",
       "  <thead>\n",
       "    <tr style=\"text-align: right;\">\n",
       "      <th></th>\n",
       "      <th>district_id</th>\n",
       "      <th>population</th>\n",
       "      <th>average_salary</th>\n",
       "      <th>unemployment_rate</th>\n",
       "      <th>num_committed_crimes</th>\n",
       "    </tr>\n",
       "  </thead>\n",
       "  <tbody>\n",
       "    <tr>\n",
       "      <th>count</th>\n",
       "      <td>76.000000</td>\n",
       "      <td>7.600000e+01</td>\n",
       "      <td>76.000000</td>\n",
       "      <td>76.000000</td>\n",
       "      <td>76.000000</td>\n",
       "    </tr>\n",
       "    <tr>\n",
       "      <th>mean</th>\n",
       "      <td>38.500000</td>\n",
       "      <td>1.336920e+05</td>\n",
       "      <td>8983.707247</td>\n",
       "      <td>3.864003</td>\n",
       "      <td>5054.492038</td>\n",
       "    </tr>\n",
       "    <tr>\n",
       "      <th>std</th>\n",
       "      <td>22.083176</td>\n",
       "      <td>1.378127e+05</td>\n",
       "      <td>740.959314</td>\n",
       "      <td>1.721597</td>\n",
       "      <td>11392.279917</td>\n",
       "    </tr>\n",
       "    <tr>\n",
       "      <th>min</th>\n",
       "      <td>1.000000</td>\n",
       "      <td>4.282100e+04</td>\n",
       "      <td>8110.000000</td>\n",
       "      <td>0.430000</td>\n",
       "      <td>888.000000</td>\n",
       "    </tr>\n",
       "    <tr>\n",
       "      <th>25%</th>\n",
       "      <td>19.750000</td>\n",
       "      <td>8.472500e+04</td>\n",
       "      <td>8533.750000</td>\n",
       "      <td>2.650000</td>\n",
       "      <td>1918.454646</td>\n",
       "    </tr>\n",
       "    <tr>\n",
       "      <th>50%</th>\n",
       "      <td>38.500000</td>\n",
       "      <td>1.083910e+05</td>\n",
       "      <td>8792.984750</td>\n",
       "      <td>3.761936</td>\n",
       "      <td>2864.000000</td>\n",
       "    </tr>\n",
       "    <tr>\n",
       "      <th>75%</th>\n",
       "      <td>57.250000</td>\n",
       "      <td>1.382770e+05</td>\n",
       "      <td>9280.750000</td>\n",
       "      <td>4.570000</td>\n",
       "      <td>4562.413240</td>\n",
       "    </tr>\n",
       "    <tr>\n",
       "      <th>max</th>\n",
       "      <td>76.000000</td>\n",
       "      <td>1.204953e+06</td>\n",
       "      <td>12541.000000</td>\n",
       "      <td>9.400000</td>\n",
       "      <td>99107.000000</td>\n",
       "    </tr>\n",
       "  </tbody>\n",
       "</table>\n",
       "</div>"
      ],
      "text/plain": [
       "       district_id    population  average_salary  unemployment_rate  \\\n",
       "count    76.000000  7.600000e+01       76.000000          76.000000   \n",
       "mean     38.500000  1.336920e+05     8983.707247           3.864003   \n",
       "std      22.083176  1.378127e+05      740.959314           1.721597   \n",
       "min       1.000000  4.282100e+04     8110.000000           0.430000   \n",
       "25%      19.750000  8.472500e+04     8533.750000           2.650000   \n",
       "50%      38.500000  1.083910e+05     8792.984750           3.761936   \n",
       "75%      57.250000  1.382770e+05     9280.750000           4.570000   \n",
       "max      76.000000  1.204953e+06    12541.000000           9.400000   \n",
       "\n",
       "       num_committed_crimes  \n",
       "count             76.000000  \n",
       "mean            5054.492038  \n",
       "std            11392.279917  \n",
       "min              888.000000  \n",
       "25%             1918.454646  \n",
       "50%             2864.000000  \n",
       "75%             4562.413240  \n",
       "max            99107.000000  "
      ]
     },
     "execution_count": 34,
     "metadata": {},
     "output_type": "execute_result"
    }
   ],
   "source": [
    "district.describe()"
   ]
  },
  {
   "cell_type": "markdown",
   "metadata": {},
   "source": [
    "#### Explore the outliers in the dataset"
   ]
  },
  {
   "cell_type": "code",
   "execution_count": 35,
   "metadata": {},
   "outputs": [],
   "source": [
    "import matplotlib.pyplot as plt"
   ]
  },
  {
   "cell_type": "code",
   "execution_count": 36,
   "metadata": {},
   "outputs": [
    {
     "data": {
      "text/plain": [
       "array([[<AxesSubplot:title={'center':'population'}>,\n",
       "        <AxesSubplot:title={'center':'average_salary'}>],\n",
       "       [<AxesSubplot:title={'center':'unemployment_rate'}>,\n",
       "        <AxesSubplot:title={'center':'num_committed_crimes'}>]],\n",
       "      dtype=object)"
      ]
     },
     "execution_count": 36,
     "metadata": {},
     "output_type": "execute_result"
    },
    {
     "data": {
      "image/png": "[encoded data removed]",
      "text/plain": [
       "<Figure size 1080x720 with 4 Axes>"
      ]
     },
     "metadata": {
      "needs_background": "light"
     },
     "output_type": "display_data"
    }
   ],
   "source": [
    "district[['population', 'average_salary', 'unemployment_rate', 'num_committed_crimes']].hist(bins=20, figsize=(15, 10))"
   ]
  },
  {
   "cell_type": "markdown",
   "metadata": {},
   "source": [
    "### 12. Check for outliers in `trans` using the `describe` method, then look at the histograms of the suspicious columns"
   ]
  },
  {
   "cell_type": "code",
   "execution_count": 37,
   "metadata": {},
   "outputs": [
    {
     "data": {
      "text/html": [
       "<div>\n",
       "<style scoped>\n",
       "    .dataframe tbody tr th:only-of-type {\n",
       "        vertical-align: middle;\n",
       "    }\n",
       "\n",
       "    .dataframe tbody tr th {\n",
       "        vertical-align: top;\n",
       "    }\n",
       "\n",
       "    .dataframe thead th {\n",
       "        text-align: right;\n",
       "    }\n",
       "</style>\n",
       "<table border=\"1\" class=\"dataframe\">\n",
       "  <thead>\n",
       "    <tr style=\"text-align: right;\">\n",
       "      <th></th>\n",
       "      <th>trans_id</th>\n",
       "      <th>account_id</th>\n",
       "      <th>amount</th>\n",
       "      <th>balance</th>\n",
       "    </tr>\n",
       "  </thead>\n",
       "  <tbody>\n",
       "    <tr>\n",
       "      <th>count</th>\n",
       "      <td>1.056320e+06</td>\n",
       "      <td>1.056320e+06</td>\n",
       "      <td>1.056320e+06</td>\n",
       "      <td>1.056320e+06</td>\n",
       "    </tr>\n",
       "    <tr>\n",
       "      <th>mean</th>\n",
       "      <td>1.335311e+06</td>\n",
       "      <td>2.936867e+03</td>\n",
       "      <td>5.924146e+03</td>\n",
       "      <td>3.851833e+04</td>\n",
       "    </tr>\n",
       "    <tr>\n",
       "      <th>std</th>\n",
       "      <td>1.227487e+06</td>\n",
       "      <td>2.477345e+03</td>\n",
       "      <td>9.522735e+03</td>\n",
       "      <td>2.211787e+04</td>\n",
       "    </tr>\n",
       "    <tr>\n",
       "      <th>min</th>\n",
       "      <td>1.000000e+00</td>\n",
       "      <td>1.000000e+00</td>\n",
       "      <td>0.000000e+00</td>\n",
       "      <td>-4.112570e+04</td>\n",
       "    </tr>\n",
       "    <tr>\n",
       "      <th>25%</th>\n",
       "      <td>4.302628e+05</td>\n",
       "      <td>1.204000e+03</td>\n",
       "      <td>1.359000e+02</td>\n",
       "      <td>2.240250e+04</td>\n",
       "    </tr>\n",
       "    <tr>\n",
       "      <th>50%</th>\n",
       "      <td>8.585065e+05</td>\n",
       "      <td>2.434000e+03</td>\n",
       "      <td>2.100000e+03</td>\n",
       "      <td>3.314340e+04</td>\n",
       "    </tr>\n",
       "    <tr>\n",
       "      <th>75%</th>\n",
       "      <td>2.060979e+06</td>\n",
       "      <td>3.660000e+03</td>\n",
       "      <td>6.800000e+03</td>\n",
       "      <td>4.960362e+04</td>\n",
       "    </tr>\n",
       "    <tr>\n",
       "      <th>max</th>\n",
       "      <td>3.682987e+06</td>\n",
       "      <td>1.138200e+04</td>\n",
       "      <td>8.740000e+04</td>\n",
       "      <td>2.096370e+05</td>\n",
       "    </tr>\n",
       "  </tbody>\n",
       "</table>\n",
       "</div>"
      ],
      "text/plain": [
       "           trans_id    account_id        amount       balance\n",
       "count  1.056320e+06  1.056320e+06  1.056320e+06  1.056320e+06\n",
       "mean   1.335311e+06  2.936867e+03  5.924146e+03  3.851833e+04\n",
       "std    1.227487e+06  2.477345e+03  9.522735e+03  2.211787e+04\n",
       "min    1.000000e+00  1.000000e+00  0.000000e+00 -4.112570e+04\n",
       "25%    4.302628e+05  1.204000e+03  1.359000e+02  2.240250e+04\n",
       "50%    8.585065e+05  2.434000e+03  2.100000e+03  3.314340e+04\n",
       "75%    2.060979e+06  3.660000e+03  6.800000e+03  4.960362e+04\n",
       "max    3.682987e+06  1.138200e+04  8.740000e+04  2.096370e+05"
      ]
     },
     "execution_count": 37,
     "metadata": {},
     "output_type": "execute_result"
    }
   ],
   "source": [
    "trans.describe()"
   ]
  },
  {
   "cell_type": "markdown",
   "metadata": {},
   "source": [
    "#### Explore the outliers in the dataset"
   ]
  },
  {
   "cell_type": "code",
   "execution_count": 38,
   "metadata": {},
   "outputs": [
    {
     "data": {
      "text/plain": [
       "array([[<AxesSubplot:title={'center':'amount'}>,\n",
       "        <AxesSubplot:title={'center':'balance'}>]], dtype=object)"
      ]
     },
     "execution_count": 38,
     "metadata": {},
     "output_type": "execute_result"
    },
    {
     "data": {
      "image/png": "[encoded data removed]",
      "text/plain": [
       "<Figure size 720x360 with 2 Axes>"
      ]
     },
     "metadata": {
      "needs_background": "light"
     },
     "output_type": "display_data"
    }
   ],
   "source": [
    "trans[['amount','balance']].hist(bins=20,figsize=(10,5))"
   ]
  },
  {
   "cell_type": "markdown",
   "metadata": {},
   "source": [
    "The DataFrame `account` doesn't have any columns that could have outliers, so we are not exploring it."
   ]
  },
  {
   "cell_type": "markdown",
   "metadata": {},
   "source": [
    "### 13. Merge (left join) `account` and `district` into a new DataFrame called `account_district` using their common columns"
   ]
  },
  {
   "cell_type": "code",
   "execution_count": 39,
   "metadata": {},
   "outputs": [],
   "source": [
    "account2=pd.read_csv('account.csv')\n",
    "district2=pd.read_csv('district.csv')\n",
    "account_district = pd.merge(account2, district2, on=\"district_id\", how='left')"
   ]
  },
  {
   "cell_type": "markdown",
   "metadata": {},
   "source": [
    "### 14. Check the information summary of `account_district`, any missing data?"
   ]
  },
  {
   "cell_type": "code",
   "execution_count": 40,
   "metadata": {},
   "outputs": [
    {
     "data": {
      "text/plain": [
       "account_id                0\n",
       "district_id               0\n",
       "frequency                 0\n",
       "account_open_date         0\n",
       "client_id                 0\n",
       "district_name            40\n",
       "region                   40\n",
       "population               40\n",
       "average_salary          626\n",
       "unemployment_rate       557\n",
       "num_committed_crimes    515\n",
       "dtype: int64"
      ]
     },
     "execution_count": 40,
     "metadata": {},
     "output_type": "execute_result"
    }
   ],
   "source": [
    "account_district.isna().sum()"
   ]
  },
  {
   "cell_type": "markdown",
   "metadata": {},
   "source": [
    "#### Look at the rows with missing data in `account_district`"
   ]
  },
  {
   "cell_type": "code",
   "execution_count": 41,
   "metadata": {},
   "outputs": [
    {
     "data": {
      "text/html": [
       "<div>\n",
       "<style scoped>\n",
       "    .dataframe tbody tr th:only-of-type {\n",
       "        vertical-align: middle;\n",
       "    }\n",
       "\n",
       "    .dataframe tbody tr th {\n",
       "        vertical-align: top;\n",
       "    }\n",
       "\n",
       "    .dataframe thead th {\n",
       "        text-align: right;\n",
       "    }\n",
       "</style>\n",
       "<table border=\"1\" class=\"dataframe\">\n",
       "  <thead>\n",
       "    <tr style=\"text-align: right;\">\n",
       "      <th></th>\n",
       "      <th>account_id</th>\n",
       "      <th>district_id</th>\n",
       "      <th>frequency</th>\n",
       "      <th>account_open_date</th>\n",
       "      <th>client_id</th>\n",
       "      <th>district_name</th>\n",
       "      <th>region</th>\n",
       "      <th>population</th>\n",
       "      <th>average_salary</th>\n",
       "      <th>unemployment_rate</th>\n",
       "      <th>num_committed_crimes</th>\n",
       "    </tr>\n",
       "  </thead>\n",
       "  <tbody>\n",
       "    <tr>\n",
       "      <th>0</th>\n",
       "      <td>False</td>\n",
       "      <td>False</td>\n",
       "      <td>False</td>\n",
       "      <td>False</td>\n",
       "      <td>False</td>\n",
       "      <td>False</td>\n",
       "      <td>False</td>\n",
       "      <td>False</td>\n",
       "      <td>True</td>\n",
       "      <td>False</td>\n",
       "      <td>False</td>\n",
       "    </tr>\n",
       "    <tr>\n",
       "      <th>1</th>\n",
       "      <td>False</td>\n",
       "      <td>False</td>\n",
       "      <td>False</td>\n",
       "      <td>False</td>\n",
       "      <td>False</td>\n",
       "      <td>False</td>\n",
       "      <td>False</td>\n",
       "      <td>False</td>\n",
       "      <td>False</td>\n",
       "      <td>False</td>\n",
       "      <td>False</td>\n",
       "    </tr>\n",
       "    <tr>\n",
       "      <th>2</th>\n",
       "      <td>False</td>\n",
       "      <td>False</td>\n",
       "      <td>False</td>\n",
       "      <td>False</td>\n",
       "      <td>False</td>\n",
       "      <td>False</td>\n",
       "      <td>False</td>\n",
       "      <td>False</td>\n",
       "      <td>True</td>\n",
       "      <td>False</td>\n",
       "      <td>False</td>\n",
       "    </tr>\n",
       "    <tr>\n",
       "      <th>3</th>\n",
       "      <td>False</td>\n",
       "      <td>False</td>\n",
       "      <td>False</td>\n",
       "      <td>False</td>\n",
       "      <td>False</td>\n",
       "      <td>False</td>\n",
       "      <td>False</td>\n",
       "      <td>False</td>\n",
       "      <td>False</td>\n",
       "      <td>False</td>\n",
       "      <td>False</td>\n",
       "    </tr>\n",
       "    <tr>\n",
       "      <th>4</th>\n",
       "      <td>False</td>\n",
       "      <td>False</td>\n",
       "      <td>False</td>\n",
       "      <td>False</td>\n",
       "      <td>False</td>\n",
       "      <td>False</td>\n",
       "      <td>False</td>\n",
       "      <td>False</td>\n",
       "      <td>False</td>\n",
       "      <td>False</td>\n",
       "      <td>False</td>\n",
       "    </tr>\n",
       "    <tr>\n",
       "      <th>...</th>\n",
       "      <td>...</td>\n",
       "      <td>...</td>\n",
       "      <td>...</td>\n",
       "      <td>...</td>\n",
       "      <td>...</td>\n",
       "      <td>...</td>\n",
       "      <td>...</td>\n",
       "      <td>...</td>\n",
       "      <td>...</td>\n",
       "      <td>...</td>\n",
       "      <td>...</td>\n",
       "    </tr>\n",
       "    <tr>\n",
       "      <th>4495</th>\n",
       "      <td>False</td>\n",
       "      <td>False</td>\n",
       "      <td>False</td>\n",
       "      <td>False</td>\n",
       "      <td>False</td>\n",
       "      <td>False</td>\n",
       "      <td>False</td>\n",
       "      <td>False</td>\n",
       "      <td>True</td>\n",
       "      <td>False</td>\n",
       "      <td>False</td>\n",
       "    </tr>\n",
       "    <tr>\n",
       "      <th>4496</th>\n",
       "      <td>False</td>\n",
       "      <td>False</td>\n",
       "      <td>False</td>\n",
       "      <td>False</td>\n",
       "      <td>False</td>\n",
       "      <td>False</td>\n",
       "      <td>False</td>\n",
       "      <td>False</td>\n",
       "      <td>False</td>\n",
       "      <td>False</td>\n",
       "      <td>False</td>\n",
       "    </tr>\n",
       "    <tr>\n",
       "      <th>4497</th>\n",
       "      <td>False</td>\n",
       "      <td>False</td>\n",
       "      <td>False</td>\n",
       "      <td>False</td>\n",
       "      <td>False</td>\n",
       "      <td>False</td>\n",
       "      <td>False</td>\n",
       "      <td>False</td>\n",
       "      <td>True</td>\n",
       "      <td>False</td>\n",
       "      <td>False</td>\n",
       "    </tr>\n",
       "    <tr>\n",
       "      <th>4498</th>\n",
       "      <td>False</td>\n",
       "      <td>False</td>\n",
       "      <td>False</td>\n",
       "      <td>False</td>\n",
       "      <td>False</td>\n",
       "      <td>False</td>\n",
       "      <td>False</td>\n",
       "      <td>False</td>\n",
       "      <td>False</td>\n",
       "      <td>False</td>\n",
       "      <td>False</td>\n",
       "    </tr>\n",
       "    <tr>\n",
       "      <th>4499</th>\n",
       "      <td>False</td>\n",
       "      <td>False</td>\n",
       "      <td>False</td>\n",
       "      <td>False</td>\n",
       "      <td>False</td>\n",
       "      <td>False</td>\n",
       "      <td>False</td>\n",
       "      <td>False</td>\n",
       "      <td>False</td>\n",
       "      <td>False</td>\n",
       "      <td>False</td>\n",
       "    </tr>\n",
       "  </tbody>\n",
       "</table>\n",
       "<p>4500 rows × 11 columns</p>\n",
       "</div>"
      ],
      "text/plain": [
       "      account_id  district_id  frequency  account_open_date  client_id  \\\n",
       "0          False        False      False              False      False   \n",
       "1          False        False      False              False      False   \n",
       "2          False        False      False              False      False   \n",
       "3          False        False      False              False      False   \n",
       "4          False        False      False              False      False   \n",
       "...          ...          ...        ...                ...        ...   \n",
       "4495       False        False      False              False      False   \n",
       "4496       False        False      False              False      False   \n",
       "4497       False        False      False              False      False   \n",
       "4498       False        False      False              False      False   \n",
       "4499       False        False      False              False      False   \n",
       "\n",
       "      district_name  region  population  average_salary  unemployment_rate  \\\n",
       "0             False   False       False            True              False   \n",
       "1             False   False       False           False              False   \n",
       "2             False   False       False            True              False   \n",
       "3             False   False       False           False              False   \n",
       "4             False   False       False           False              False   \n",
       "...             ...     ...         ...             ...                ...   \n",
       "4495          False   False       False            True              False   \n",
       "4496          False   False       False           False              False   \n",
       "4497          False   False       False            True              False   \n",
       "4498          False   False       False           False              False   \n",
       "4499          False   False       False           False              False   \n",
       "\n",
       "      num_committed_crimes  \n",
       "0                    False  \n",
       "1                    False  \n",
       "2                    False  \n",
       "3                    False  \n",
       "4                    False  \n",
       "...                    ...  \n",
       "4495                 False  \n",
       "4496                 False  \n",
       "4497                 False  \n",
       "4498                 False  \n",
       "4499                 False  \n",
       "\n",
       "[4500 rows x 11 columns]"
      ]
     },
     "execution_count": 41,
     "metadata": {},
     "output_type": "execute_result"
    }
   ],
   "source": [
    "account_district.isnull() "
   ]
  },
  {
   "cell_type": "code",
   "execution_count": 42,
   "metadata": {},
   "outputs": [
    {
     "data": {
      "text/html": [
       "<div>\n",
       "<style scoped>\n",
       "    .dataframe tbody tr th:only-of-type {\n",
       "        vertical-align: middle;\n",
       "    }\n",
       "\n",
       "    .dataframe tbody tr th {\n",
       "        vertical-align: top;\n",
       "    }\n",
       "\n",
       "    .dataframe thead th {\n",
       "        text-align: right;\n",
       "    }\n",
       "</style>\n",
       "<table border=\"1\" class=\"dataframe\">\n",
       "  <thead>\n",
       "    <tr style=\"text-align: right;\">\n",
       "      <th></th>\n",
       "      <th>account_id</th>\n",
       "      <th>district_id</th>\n",
       "      <th>frequency</th>\n",
       "      <th>account_open_date</th>\n",
       "      <th>client_id</th>\n",
       "      <th>district_name</th>\n",
       "      <th>region</th>\n",
       "      <th>population</th>\n",
       "      <th>average_salary</th>\n",
       "      <th>unemployment_rate</th>\n",
       "      <th>num_committed_crimes</th>\n",
       "    </tr>\n",
       "  </thead>\n",
       "  <tbody>\n",
       "    <tr>\n",
       "      <th>0</th>\n",
       "      <td>576</td>\n",
       "      <td>55</td>\n",
       "      <td>MONTHLY STATEMENTS</td>\n",
       "      <td>1993-01-01</td>\n",
       "      <td>692</td>\n",
       "      <td>Brno - venkov</td>\n",
       "      <td>south Moravia</td>\n",
       "      <td>157042.0</td>\n",
       "      <td>NaN</td>\n",
       "      <td>2.43</td>\n",
       "      <td>3894.0</td>\n",
       "    </tr>\n",
       "    <tr>\n",
       "      <th>2</th>\n",
       "      <td>704</td>\n",
       "      <td>55</td>\n",
       "      <td>MONTHLY STATEMENTS</td>\n",
       "      <td>1993-01-01</td>\n",
       "      <td>844</td>\n",
       "      <td>Brno - venkov</td>\n",
       "      <td>south Moravia</td>\n",
       "      <td>157042.0</td>\n",
       "      <td>NaN</td>\n",
       "      <td>2.43</td>\n",
       "      <td>3894.0</td>\n",
       "    </tr>\n",
       "    <tr>\n",
       "      <th>5</th>\n",
       "      <td>1972</td>\n",
       "      <td>77</td>\n",
       "      <td>MONTHLY STATEMENTS</td>\n",
       "      <td>1993-01-02</td>\n",
       "      <td>2397</td>\n",
       "      <td>NaN</td>\n",
       "      <td>NaN</td>\n",
       "      <td>NaN</td>\n",
       "      <td>NaN</td>\n",
       "      <td>NaN</td>\n",
       "      <td>NaN</td>\n",
       "    </tr>\n",
       "    <tr>\n",
       "      <th>24</th>\n",
       "      <td>192</td>\n",
       "      <td>55</td>\n",
       "      <td>MONTHLY STATEMENTS</td>\n",
       "      <td>1993-01-08</td>\n",
       "      <td>232</td>\n",
       "      <td>Brno - venkov</td>\n",
       "      <td>south Moravia</td>\n",
       "      <td>157042.0</td>\n",
       "      <td>NaN</td>\n",
       "      <td>2.43</td>\n",
       "      <td>3894.0</td>\n",
       "    </tr>\n",
       "    <tr>\n",
       "      <th>26</th>\n",
       "      <td>2087</td>\n",
       "      <td>7</td>\n",
       "      <td>WEEKLY STATEMENTS</td>\n",
       "      <td>1993-01-08</td>\n",
       "      <td>2530</td>\n",
       "      <td>Melnik</td>\n",
       "      <td>central Bohemia</td>\n",
       "      <td>94725.0</td>\n",
       "      <td>NaN</td>\n",
       "      <td>2.87</td>\n",
       "      <td>4846.0</td>\n",
       "    </tr>\n",
       "    <tr>\n",
       "      <th>...</th>\n",
       "      <td>...</td>\n",
       "      <td>...</td>\n",
       "      <td>...</td>\n",
       "      <td>...</td>\n",
       "      <td>...</td>\n",
       "      <td>...</td>\n",
       "      <td>...</td>\n",
       "      <td>...</td>\n",
       "      <td>...</td>\n",
       "      <td>...</td>\n",
       "      <td>...</td>\n",
       "    </tr>\n",
       "    <tr>\n",
       "      <th>4452</th>\n",
       "      <td>2775</td>\n",
       "      <td>30</td>\n",
       "      <td>MONTHLY STATEMENTS</td>\n",
       "      <td>1997-12-08</td>\n",
       "      <td>3350</td>\n",
       "      <td>Sokolov</td>\n",
       "      <td>west Bohemia</td>\n",
       "      <td>94812.0</td>\n",
       "      <td>NaN</td>\n",
       "      <td>3.67</td>\n",
       "      <td>2804.0</td>\n",
       "    </tr>\n",
       "    <tr>\n",
       "      <th>4483</th>\n",
       "      <td>703</td>\n",
       "      <td>54</td>\n",
       "      <td>MONTHLY STATEMENTS</td>\n",
       "      <td>1997-12-21</td>\n",
       "      <td>843</td>\n",
       "      <td>Brno - mesto</td>\n",
       "      <td>south Moravia</td>\n",
       "      <td>387570.0</td>\n",
       "      <td>NaN</td>\n",
       "      <td>1.96</td>\n",
       "      <td>18696.0</td>\n",
       "    </tr>\n",
       "    <tr>\n",
       "      <th>4489</th>\n",
       "      <td>1983</td>\n",
       "      <td>54</td>\n",
       "      <td>MONTHLY STATEMENTS</td>\n",
       "      <td>1997-12-25</td>\n",
       "      <td>2409</td>\n",
       "      <td>Brno - mesto</td>\n",
       "      <td>south Moravia</td>\n",
       "      <td>387570.0</td>\n",
       "      <td>NaN</td>\n",
       "      <td>1.96</td>\n",
       "      <td>18696.0</td>\n",
       "    </tr>\n",
       "    <tr>\n",
       "      <th>4495</th>\n",
       "      <td>124</td>\n",
       "      <td>55</td>\n",
       "      <td>MONTHLY STATEMENTS</td>\n",
       "      <td>1997-12-28</td>\n",
       "      <td>149</td>\n",
       "      <td>Brno - venkov</td>\n",
       "      <td>south Moravia</td>\n",
       "      <td>157042.0</td>\n",
       "      <td>NaN</td>\n",
       "      <td>2.43</td>\n",
       "      <td>3894.0</td>\n",
       "    </tr>\n",
       "    <tr>\n",
       "      <th>4497</th>\n",
       "      <td>777</td>\n",
       "      <td>30</td>\n",
       "      <td>MONTHLY STATEMENTS</td>\n",
       "      <td>1997-12-28</td>\n",
       "      <td>929</td>\n",
       "      <td>Sokolov</td>\n",
       "      <td>west Bohemia</td>\n",
       "      <td>94812.0</td>\n",
       "      <td>NaN</td>\n",
       "      <td>3.67</td>\n",
       "      <td>2804.0</td>\n",
       "    </tr>\n",
       "  </tbody>\n",
       "</table>\n",
       "<p>626 rows × 11 columns</p>\n",
       "</div>"
      ],
      "text/plain": [
       "      account_id  district_id           frequency account_open_date  \\\n",
       "0            576           55  MONTHLY STATEMENTS        1993-01-01   \n",
       "2            704           55  MONTHLY STATEMENTS        1993-01-01   \n",
       "5           1972           77  MONTHLY STATEMENTS        1993-01-02   \n",
       "24           192           55  MONTHLY STATEMENTS        1993-01-08   \n",
       "26          2087            7   WEEKLY STATEMENTS        1993-01-08   \n",
       "...          ...          ...                 ...               ...   \n",
       "4452        2775           30  MONTHLY STATEMENTS        1997-12-08   \n",
       "4483         703           54  MONTHLY STATEMENTS        1997-12-21   \n",
       "4489        1983           54  MONTHLY STATEMENTS        1997-12-25   \n",
       "4495         124           55  MONTHLY STATEMENTS        1997-12-28   \n",
       "4497         777           30  MONTHLY STATEMENTS        1997-12-28   \n",
       "\n",
       "      client_id  district_name           region  population  average_salary  \\\n",
       "0           692  Brno - venkov    south Moravia    157042.0             NaN   \n",
       "2           844  Brno - venkov    south Moravia    157042.0             NaN   \n",
       "5          2397            NaN              NaN         NaN             NaN   \n",
       "24          232  Brno - venkov    south Moravia    157042.0             NaN   \n",
       "26         2530         Melnik  central Bohemia     94725.0             NaN   \n",
       "...         ...            ...              ...         ...             ...   \n",
       "4452       3350        Sokolov     west Bohemia     94812.0             NaN   \n",
       "4483        843   Brno - mesto    south Moravia    387570.0             NaN   \n",
       "4489       2409   Brno - mesto    south Moravia    387570.0             NaN   \n",
       "4495        149  Brno - venkov    south Moravia    157042.0             NaN   \n",
       "4497        929        Sokolov     west Bohemia     94812.0             NaN   \n",
       "\n",
       "      unemployment_rate  num_committed_crimes  \n",
       "0                  2.43                3894.0  \n",
       "2                  2.43                3894.0  \n",
       "5                   NaN                   NaN  \n",
       "24                 2.43                3894.0  \n",
       "26                 2.87                4846.0  \n",
       "...                 ...                   ...  \n",
       "4452               3.67                2804.0  \n",
       "4483               1.96               18696.0  \n",
       "4489               1.96               18696.0  \n",
       "4495               2.43                3894.0  \n",
       "4497               3.67                2804.0  \n",
       "\n",
       "[626 rows x 11 columns]"
      ]
     },
     "execution_count": 42,
     "metadata": {},
     "output_type": "execute_result"
    }
   ],
   "source": [
    "account_district[account_district['average_salary'].isnull()]\n",
    "# do the same to see records with missing values for unemployment_rate, and num_committed_crimes"
   ]
  },
  {
   "cell_type": "markdown",
   "metadata": {},
   "source": [
    "#### Use `SimpleImputer` from `sklearn` to impute the missing data in columns `population`, `average_salary`, `unemployment_rate`, `num_committed_crimes` with their means"
   ]
  },
  {
   "cell_type": "code",
   "execution_count": 43,
   "metadata": {},
   "outputs": [],
   "source": [
    "from sklearn.impute import SimpleImputer\n",
    "imputer = SimpleImputer(missing_values=np.NaN, strategy='mean')"
   ]
  },
  {
   "cell_type": "code",
   "execution_count": 44,
   "metadata": {},
   "outputs": [
    {
     "data": {
      "text/plain": [
       "account_id               0\n",
       "district_id              0\n",
       "frequency                0\n",
       "account_open_date        0\n",
       "client_id                0\n",
       "district_name           40\n",
       "region                  40\n",
       "population               0\n",
       "average_salary           0\n",
       "unemployment_rate        0\n",
       "num_committed_crimes     0\n",
       "dtype: int64"
      ]
     },
     "execution_count": 44,
     "metadata": {},
     "output_type": "execute_result"
    }
   ],
   "source": [
    "account_district.population = imputer.fit_transform(account_district['population'].values.reshape(-1,1))[:,0]\n",
    "account_district.average_salary = imputer.fit_transform(account_district['average_salary'].values.reshape(-1,1))[:,0]\n",
    "account_district.unemployment_rate = imputer.fit_transform(account_district['unemployment_rate'].values.reshape(-1,1))[:,0]\n",
    "account_district.num_committed_crimes = imputer.fit_transform(account_district['num_committed_crimes'].values.reshape(-1,1))[:,0]\n",
    "\n",
    "account_district.isnull().sum()"
   ]
  },
  {
   "cell_type": "markdown",
   "metadata": {},
   "source": [
    "#### Use `fillna` method to impute the missing data in columns `district_name` and `region` with 'UNKNOWN'"
   ]
  },
  {
   "cell_type": "code",
   "execution_count": 45,
   "metadata": {},
   "outputs": [
    {
     "data": {
      "text/plain": [
       "account_id              0\n",
       "district_id             0\n",
       "frequency               0\n",
       "account_open_date       0\n",
       "client_id               0\n",
       "district_name           0\n",
       "region                  0\n",
       "population              0\n",
       "average_salary          0\n",
       "unemployment_rate       0\n",
       "num_committed_crimes    0\n",
       "dtype: int64"
      ]
     },
     "execution_count": 45,
     "metadata": {},
     "output_type": "execute_result"
    }
   ],
   "source": [
    "account_district['district_name'].fillna('Uknown',inplace=True)\n",
    "account_district['region'].fillna('Uknown',inplace=True)\n",
    "account_district.isna().sum()"
   ]
  },
  {
   "cell_type": "markdown",
   "metadata": {},
   "source": [
    "### 15. Merge (left join) `trans` and `account_district` into a new DataFrame called `all_data` using their common columns"
   ]
  },
  {
   "cell_type": "code",
   "execution_count": 46,
   "metadata": {},
   "outputs": [
    {
     "data": {
      "text/plain": [
       "Index(['trans_id', 'account_id', 'date', 'type', 'operation_type', 'amount',\n",
       "       'balance', 'description', 'partner_bank', 'partner_account',\n",
       "       'trans_date'],\n",
       "      dtype='object')"
      ]
     },
     "execution_count": 46,
     "metadata": {},
     "output_type": "execute_result"
    }
   ],
   "source": [
    "trans.columns"
   ]
  },
  {
   "cell_type": "code",
   "execution_count": 47,
   "metadata": {},
   "outputs": [],
   "source": [
    "all_data=pd.merge(trans,account_district, on='account_id', how='left')"
   ]
  },
  {
   "cell_type": "markdown",
   "metadata": {},
   "source": [
    "#### Check the information summary of `all_data`"
   ]
  },
  {
   "cell_type": "code",
   "execution_count": 48,
   "metadata": {},
   "outputs": [
    {
     "name": "stdout",
     "output_type": "stream",
     "text": [
      "<class 'pandas.core.frame.DataFrame'>\n",
      "Int64Index: 1056320 entries, 0 to 1056319\n",
      "Data columns (total 21 columns):\n",
      " #   Column                Non-Null Count    Dtype         \n",
      "---  ------                --------------    -----         \n",
      " 0   trans_id              1056320 non-null  int64         \n",
      " 1   account_id            1056320 non-null  int64         \n",
      " 2   date                  1056320 non-null  object        \n",
      " 3   type                  1056320 non-null  object        \n",
      " 4   operation_type        1056320 non-null  object        \n",
      " 5   amount                1056320 non-null  float64       \n",
      " 6   balance               1056320 non-null  float64       \n",
      " 7   description           1056320 non-null  object        \n",
      " 8   partner_bank          1056320 non-null  object        \n",
      " 9   partner_account       1056320 non-null  object        \n",
      " 10  trans_date            1056320 non-null  datetime64[ns]\n",
      " 11  district_id           1056320 non-null  int64         \n",
      " 12  frequency             1056320 non-null  object        \n",
      " 13  account_open_date     1056320 non-null  object        \n",
      " 14  client_id             1056320 non-null  int64         \n",
      " 15  district_name         1056320 non-null  object        \n",
      " 16  region                1056320 non-null  object        \n",
      " 17  population            1056320 non-null  float64       \n",
      " 18  average_salary        1056320 non-null  float64       \n",
      " 19  unemployment_rate     1056320 non-null  float64       \n",
      " 20  num_committed_crimes  1056320 non-null  float64       \n",
      "dtypes: datetime64[ns](1), float64(6), int64(4), object(10)\n",
      "memory usage: 177.3+ MB\n"
     ]
    }
   ],
   "source": [
    "all_data.info()"
   ]
  },
  {
   "cell_type": "markdown",
   "metadata": {},
   "source": [
    "### 16. Create a new column `account_open_year` and assign it as the year from column `account_open_date`"
   ]
  },
  {
   "cell_type": "code",
   "execution_count": 49,
   "metadata": {},
   "outputs": [],
   "source": [
    "all_data['account_open_year']=pd.DatetimeIndex(all_data['account_open_date']).year\n",
    "all_data['trans_year']=pd.DatetimeIndex(all_data['date']).year"
   ]
  },
  {
   "cell_type": "code",
   "execution_count": 50,
   "metadata": {},
   "outputs": [
    {
     "name": "stdout",
     "output_type": "stream",
     "text": [
      "{1993, 1994, 1995, 1996, 1997}\n",
      "{1993, 1994, 1995, 1996, 1997, 1998}\n"
     ]
    }
   ],
   "source": [
    "print(set(all_data['account_open_year']))\n",
    "print(set(all_data['trans_year']))"
   ]
  },
  {
   "cell_type": "markdown",
   "metadata": {},
   "source": [
    "### 17. Calculate the difference between columns `date` (transaction date) and `account_open_date`"
   ]
  },
  {
   "cell_type": "code",
   "execution_count": 51,
   "metadata": {},
   "outputs": [
    {
     "data": {
      "text/plain": [
       "{0, 1, 2, 3, 4, 5}"
      ]
     },
     "execution_count": 51,
     "metadata": {},
     "output_type": "execute_result"
    }
   ],
   "source": [
    "set(all_data['trans_year']-all_data['account_open_year'])"
   ]
  },
  {
   "cell_type": "markdown",
   "metadata": {},
   "source": [
    "### 18. Create a new column `account_age_days` and assign it as the difference in days between columns `date` (transaction date) and `account_open_date`"
   ]
  },
  {
   "cell_type": "code",
   "execution_count": 52,
   "metadata": {},
   "outputs": [
    {
     "name": "stdout",
     "output_type": "stream",
     "text": [
      "<class 'pandas.core.frame.DataFrame'>\n",
      "Int64Index: 1056320 entries, 0 to 1056319\n",
      "Data columns (total 23 columns):\n",
      " #   Column                Non-Null Count    Dtype         \n",
      "---  ------                --------------    -----         \n",
      " 0   trans_id              1056320 non-null  int64         \n",
      " 1   account_id            1056320 non-null  int64         \n",
      " 2   date                  1056320 non-null  object        \n",
      " 3   type                  1056320 non-null  object        \n",
      " 4   operation_type        1056320 non-null  object        \n",
      " 5   amount                1056320 non-null  float64       \n",
      " 6   balance               1056320 non-null  float64       \n",
      " 7   description           1056320 non-null  object        \n",
      " 8   partner_bank          1056320 non-null  object        \n",
      " 9   partner_account       1056320 non-null  object        \n",
      " 10  trans_date            1056320 non-null  datetime64[ns]\n",
      " 11  district_id           1056320 non-null  int64         \n",
      " 12  frequency             1056320 non-null  object        \n",
      " 13  account_open_date     1056320 non-null  object        \n",
      " 14  client_id             1056320 non-null  int64         \n",
      " 15  district_name         1056320 non-null  object        \n",
      " 16  region                1056320 non-null  object        \n",
      " 17  population            1056320 non-null  float64       \n",
      " 18  average_salary        1056320 non-null  float64       \n",
      " 19  unemployment_rate     1056320 non-null  float64       \n",
      " 20  num_committed_crimes  1056320 non-null  float64       \n",
      " 21  account_open_year     1056320 non-null  int64         \n",
      " 22  trans_year            1056320 non-null  int64         \n",
      "dtypes: datetime64[ns](1), float64(6), int64(6), object(10)\n",
      "memory usage: 193.4+ MB\n"
     ]
    }
   ],
   "source": [
    "all_data.info()"
   ]
  },
  {
   "cell_type": "code",
   "execution_count": 53,
   "metadata": {},
   "outputs": [
    {
     "name": "stdout",
     "output_type": "stream",
     "text": [
      "<class 'pandas.core.frame.DataFrame'>\n",
      "Int64Index: 1056320 entries, 0 to 1056319\n",
      "Data columns (total 23 columns):\n",
      " #   Column                Non-Null Count    Dtype         \n",
      "---  ------                --------------    -----         \n",
      " 0   trans_id              1056320 non-null  int64         \n",
      " 1   account_id            1056320 non-null  int64         \n",
      " 2   date                  1056320 non-null  object        \n",
      " 3   type                  1056320 non-null  object        \n",
      " 4   operation_type        1056320 non-null  object        \n",
      " 5   amount                1056320 non-null  float64       \n",
      " 6   balance               1056320 non-null  float64       \n",
      " 7   description           1056320 non-null  object        \n",
      " 8   partner_bank          1056320 non-null  object        \n",
      " 9   partner_account       1056320 non-null  object        \n",
      " 10  trans_date            1056320 non-null  datetime64[ns]\n",
      " 11  district_id           1056320 non-null  int64         \n",
      " 12  frequency             1056320 non-null  object        \n",
      " 13  account_open_date     1056320 non-null  object        \n",
      " 14  client_id             1056320 non-null  int64         \n",
      " 15  district_name         1056320 non-null  object        \n",
      " 16  region                1056320 non-null  object        \n",
      " 17  population            1056320 non-null  float64       \n",
      " 18  average_salary        1056320 non-null  float64       \n",
      " 19  unemployment_rate     1056320 non-null  float64       \n",
      " 20  num_committed_crimes  1056320 non-null  float64       \n",
      " 21  account_open_year     1056320 non-null  int64         \n",
      " 22  trans_year            1056320 non-null  int64         \n",
      "dtypes: datetime64[ns](1), float64(6), int64(6), object(10)\n",
      "memory usage: 193.4+ MB\n"
     ]
    }
   ],
   "source": [
    "all_data.info()"
   ]
  },
  {
   "cell_type": "code",
   "execution_count": 54,
   "metadata": {},
   "outputs": [],
   "source": [
    "all_data['date']=pd.to_datetime(all_data['date'], format='%Y-%m-%d')\n",
    "all_data['account_open_date']=pd.to_datetime(all_data['account_open_date'], format='%Y-%m-%d')\n",
    "all_data['account_age_days']=(all_data['date']-all_data['account_open_date']) / pd.Timedelta(days=1)"
   ]
  },
  {
   "cell_type": "code",
   "execution_count": 55,
   "metadata": {},
   "outputs": [
    {
     "data": {
      "text/plain": [
       "0    0.0\n",
       "1    0.0\n",
       "2    0.0\n",
       "3    0.0\n",
       "4    0.0\n",
       "Name: account_age_days, dtype: float64"
      ]
     },
     "execution_count": 55,
     "metadata": {},
     "output_type": "execute_result"
    }
   ],
   "source": [
    "all_data['account_age_days'].head()"
   ]
  },
  {
   "cell_type": "markdown",
   "metadata": {},
   "source": [
    "### 19. Create a new column `amount_category` by cutting the column `amount` into 3 equal-sized bins, and label the bins as 'low_amount', 'medium_amount', 'high_amount'"
   ]
  },
  {
   "cell_type": "code",
   "execution_count": 56,
   "metadata": {},
   "outputs": [],
   "source": [
    "bins=3\n",
    "labels=['low_amount', 'medium_amount', 'high_amount']\n",
    "all_data['amount_category'] = pd.cut(all_data['amount'], bins, labels=labels)"
   ]
  },
  {
   "cell_type": "markdown",
   "metadata": {},
   "source": [
    "#### Verify the categories and their counts in `amount_category`"
   ]
  },
  {
   "cell_type": "code",
   "execution_count": 57,
   "metadata": {},
   "outputs": [
    {
     "data": {
      "text/plain": [
       "low_amount       1013033\n",
       "medium_amount      41336\n",
       "high_amount         1951\n",
       "Name: amount_category, dtype: int64"
      ]
     },
     "execution_count": 57,
     "metadata": {},
     "output_type": "execute_result"
    }
   ],
   "source": [
    "all_data['amount_category'].value_counts()"
   ]
  },
  {
   "cell_type": "markdown",
   "metadata": {},
   "source": [
    "### 20. Create a new column `account_age_days_category` by cutting the column `account_age_days` into 5 equal-width bins"
   ]
  },
  {
   "cell_type": "code",
   "execution_count": 58,
   "metadata": {},
   "outputs": [],
   "source": [
    "all_data['account_age_days_category'] = pd.cut(all_data['account_age_days'], bins=5)"
   ]
  },
  {
   "cell_type": "markdown",
   "metadata": {},
   "source": [
    "#### Verify the categories and their counts in `account_age_days_category`"
   ]
  },
  {
   "cell_type": "code",
   "execution_count": 59,
   "metadata": {},
   "outputs": [
    {
     "data": {
      "text/plain": [
       "(438.0, 876.0]      333012\n",
       "(-2.19, 438.0]      330815\n",
       "(876.0, 1314.0]     204014\n",
       "(1314.0, 1752.0]    131926\n",
       "(1752.0, 2190.0]     56553\n",
       "Name: account_age_days_category, dtype: int64"
      ]
     },
     "execution_count": 59,
     "metadata": {},
     "output_type": "execute_result"
    }
   ],
   "source": [
    "all_data['account_age_days_category'].value_counts()"
   ]
  },
  {
   "cell_type": "markdown",
   "metadata": {},
   "source": [
    "#### Print out the first 20 rows of `all_data` to look at the newly added columns"
   ]
  },
  {
   "cell_type": "code",
   "execution_count": 60,
   "metadata": {},
   "outputs": [
    {
     "data": {
      "text/html": [
       "<div>\n",
       "<style scoped>\n",
       "    .dataframe tbody tr th:only-of-type {\n",
       "        vertical-align: middle;\n",
       "    }\n",
       "\n",
       "    .dataframe tbody tr th {\n",
       "        vertical-align: top;\n",
       "    }\n",
       "\n",
       "    .dataframe thead th {\n",
       "        text-align: right;\n",
       "    }\n",
       "</style>\n",
       "<table border=\"1\" class=\"dataframe\">\n",
       "  <thead>\n",
       "    <tr style=\"text-align: right;\">\n",
       "      <th></th>\n",
       "      <th>trans_id</th>\n",
       "      <th>account_id</th>\n",
       "      <th>date</th>\n",
       "      <th>type</th>\n",
       "      <th>operation_type</th>\n",
       "      <th>amount</th>\n",
       "      <th>balance</th>\n",
       "      <th>description</th>\n",
       "      <th>partner_bank</th>\n",
       "      <th>partner_account</th>\n",
       "      <th>...</th>\n",
       "      <th>region</th>\n",
       "      <th>population</th>\n",
       "      <th>average_salary</th>\n",
       "      <th>unemployment_rate</th>\n",
       "      <th>num_committed_crimes</th>\n",
       "      <th>account_open_year</th>\n",
       "      <th>trans_year</th>\n",
       "      <th>account_age_days</th>\n",
       "      <th>amount_category</th>\n",
       "      <th>account_age_days_category</th>\n",
       "    </tr>\n",
       "  </thead>\n",
       "  <tbody>\n",
       "    <tr>\n",
       "      <th>0</th>\n",
       "      <td>695247</td>\n",
       "      <td>2378</td>\n",
       "      <td>1993-01-01</td>\n",
       "      <td>CREDIT</td>\n",
       "      <td>CREDIT IN CASH</td>\n",
       "      <td>700.0</td>\n",
       "      <td>700.0</td>\n",
       "      <td>Unknown</td>\n",
       "      <td>Unknown</td>\n",
       "      <td>Unknown</td>\n",
       "      <td>...</td>\n",
       "      <td>south Bohemia</td>\n",
       "      <td>9.393100e+04</td>\n",
       "      <td>8427.000000</td>\n",
       "      <td>1.540000</td>\n",
       "      <td>1913.000000</td>\n",
       "      <td>1993</td>\n",
       "      <td>1993</td>\n",
       "      <td>0.0</td>\n",
       "      <td>low_amount</td>\n",
       "      <td>(-2.19, 438.0]</td>\n",
       "    </tr>\n",
       "    <tr>\n",
       "      <th>1</th>\n",
       "      <td>171812</td>\n",
       "      <td>576</td>\n",
       "      <td>1993-01-01</td>\n",
       "      <td>CREDIT</td>\n",
       "      <td>CREDIT IN CASH</td>\n",
       "      <td>900.0</td>\n",
       "      <td>900.0</td>\n",
       "      <td>Unknown</td>\n",
       "      <td>Unknown</td>\n",
       "      <td>Unknown</td>\n",
       "      <td>...</td>\n",
       "      <td>south Moravia</td>\n",
       "      <td>1.570420e+05</td>\n",
       "      <td>9533.177336</td>\n",
       "      <td>2.430000</td>\n",
       "      <td>3894.000000</td>\n",
       "      <td>1993</td>\n",
       "      <td>1993</td>\n",
       "      <td>0.0</td>\n",
       "      <td>low_amount</td>\n",
       "      <td>(-2.19, 438.0]</td>\n",
       "    </tr>\n",
       "    <tr>\n",
       "      <th>2</th>\n",
       "      <td>207264</td>\n",
       "      <td>704</td>\n",
       "      <td>1993-01-01</td>\n",
       "      <td>CREDIT</td>\n",
       "      <td>CREDIT IN CASH</td>\n",
       "      <td>1000.0</td>\n",
       "      <td>1000.0</td>\n",
       "      <td>Unknown</td>\n",
       "      <td>Unknown</td>\n",
       "      <td>Unknown</td>\n",
       "      <td>...</td>\n",
       "      <td>south Moravia</td>\n",
       "      <td>1.570420e+05</td>\n",
       "      <td>9533.177336</td>\n",
       "      <td>2.430000</td>\n",
       "      <td>3894.000000</td>\n",
       "      <td>1993</td>\n",
       "      <td>1993</td>\n",
       "      <td>0.0</td>\n",
       "      <td>low_amount</td>\n",
       "      <td>(-2.19, 438.0]</td>\n",
       "    </tr>\n",
       "    <tr>\n",
       "      <th>3</th>\n",
       "      <td>1117247</td>\n",
       "      <td>3818</td>\n",
       "      <td>1993-01-01</td>\n",
       "      <td>CREDIT</td>\n",
       "      <td>CREDIT IN CASH</td>\n",
       "      <td>600.0</td>\n",
       "      <td>600.0</td>\n",
       "      <td>Unknown</td>\n",
       "      <td>Unknown</td>\n",
       "      <td>Unknown</td>\n",
       "      <td>...</td>\n",
       "      <td>north Moravia</td>\n",
       "      <td>3.238700e+05</td>\n",
       "      <td>10673.000000</td>\n",
       "      <td>5.440000</td>\n",
       "      <td>18347.000000</td>\n",
       "      <td>1993</td>\n",
       "      <td>1993</td>\n",
       "      <td>0.0</td>\n",
       "      <td>low_amount</td>\n",
       "      <td>(-2.19, 438.0]</td>\n",
       "    </tr>\n",
       "    <tr>\n",
       "      <th>4</th>\n",
       "      <td>579373</td>\n",
       "      <td>1972</td>\n",
       "      <td>1993-01-02</td>\n",
       "      <td>CREDIT</td>\n",
       "      <td>CREDIT IN CASH</td>\n",
       "      <td>400.0</td>\n",
       "      <td>400.0</td>\n",
       "      <td>Unknown</td>\n",
       "      <td>Unknown</td>\n",
       "      <td>Unknown</td>\n",
       "      <td>...</td>\n",
       "      <td>Uknown</td>\n",
       "      <td>2.703257e+05</td>\n",
       "      <td>9533.177336</td>\n",
       "      <td>3.500345</td>\n",
       "      <td>17869.983187</td>\n",
       "      <td>1993</td>\n",
       "      <td>1993</td>\n",
       "      <td>0.0</td>\n",
       "      <td>low_amount</td>\n",
       "      <td>(-2.19, 438.0]</td>\n",
       "    </tr>\n",
       "    <tr>\n",
       "      <th>5</th>\n",
       "      <td>771035</td>\n",
       "      <td>2632</td>\n",
       "      <td>1993-01-02</td>\n",
       "      <td>CREDIT</td>\n",
       "      <td>CREDIT IN CASH</td>\n",
       "      <td>1100.0</td>\n",
       "      <td>1100.0</td>\n",
       "      <td>Unknown</td>\n",
       "      <td>Unknown</td>\n",
       "      <td>Unknown</td>\n",
       "      <td>...</td>\n",
       "      <td>west Bohemia</td>\n",
       "      <td>1.226030e+05</td>\n",
       "      <td>8991.000000</td>\n",
       "      <td>2.010000</td>\n",
       "      <td>5273.000000</td>\n",
       "      <td>1993</td>\n",
       "      <td>1993</td>\n",
       "      <td>0.0</td>\n",
       "      <td>low_amount</td>\n",
       "      <td>(-2.19, 438.0]</td>\n",
       "    </tr>\n",
       "    <tr>\n",
       "      <th>6</th>\n",
       "      <td>452728</td>\n",
       "      <td>1539</td>\n",
       "      <td>1993-01-03</td>\n",
       "      <td>CREDIT</td>\n",
       "      <td>CREDIT IN CASH</td>\n",
       "      <td>600.0</td>\n",
       "      <td>600.0</td>\n",
       "      <td>Unknown</td>\n",
       "      <td>Unknown</td>\n",
       "      <td>Unknown</td>\n",
       "      <td>...</td>\n",
       "      <td>Prague</td>\n",
       "      <td>1.204953e+06</td>\n",
       "      <td>12541.000000</td>\n",
       "      <td>0.430000</td>\n",
       "      <td>99107.000000</td>\n",
       "      <td>1993</td>\n",
       "      <td>1993</td>\n",
       "      <td>0.0</td>\n",
       "      <td>low_amount</td>\n",
       "      <td>(-2.19, 438.0]</td>\n",
       "    </tr>\n",
       "    <tr>\n",
       "      <th>7</th>\n",
       "      <td>725751</td>\n",
       "      <td>2484</td>\n",
       "      <td>1993-01-03</td>\n",
       "      <td>CREDIT</td>\n",
       "      <td>CREDIT IN CASH</td>\n",
       "      <td>1100.0</td>\n",
       "      <td>1100.0</td>\n",
       "      <td>Unknown</td>\n",
       "      <td>Unknown</td>\n",
       "      <td>Unknown</td>\n",
       "      <td>...</td>\n",
       "      <td>north Moravia</td>\n",
       "      <td>3.238700e+05</td>\n",
       "      <td>10673.000000</td>\n",
       "      <td>5.440000</td>\n",
       "      <td>18347.000000</td>\n",
       "      <td>1993</td>\n",
       "      <td>1993</td>\n",
       "      <td>0.0</td>\n",
       "      <td>low_amount</td>\n",
       "      <td>(-2.19, 438.0]</td>\n",
       "    </tr>\n",
       "    <tr>\n",
       "      <th>8</th>\n",
       "      <td>497211</td>\n",
       "      <td>1695</td>\n",
       "      <td>1993-01-03</td>\n",
       "      <td>CREDIT</td>\n",
       "      <td>CREDIT IN CASH</td>\n",
       "      <td>200.0</td>\n",
       "      <td>200.0</td>\n",
       "      <td>Unknown</td>\n",
       "      <td>Unknown</td>\n",
       "      <td>Unknown</td>\n",
       "      <td>...</td>\n",
       "      <td>north Moravia</td>\n",
       "      <td>1.273690e+05</td>\n",
       "      <td>8369.000000</td>\n",
       "      <td>3.500345</td>\n",
       "      <td>2807.000000</td>\n",
       "      <td>1993</td>\n",
       "      <td>1993</td>\n",
       "      <td>0.0</td>\n",
       "      <td>low_amount</td>\n",
       "      <td>(-2.19, 438.0]</td>\n",
       "    </tr>\n",
       "    <tr>\n",
       "      <th>9</th>\n",
       "      <td>232960</td>\n",
       "      <td>793</td>\n",
       "      <td>1993-01-03</td>\n",
       "      <td>CREDIT</td>\n",
       "      <td>CREDIT IN CASH</td>\n",
       "      <td>800.0</td>\n",
       "      <td>800.0</td>\n",
       "      <td>Unknown</td>\n",
       "      <td>Unknown</td>\n",
       "      <td>Unknown</td>\n",
       "      <td>...</td>\n",
       "      <td>east Bohemia</td>\n",
       "      <td>1.625800e+05</td>\n",
       "      <td>9538.000000</td>\n",
       "      <td>3.500345</td>\n",
       "      <td>5410.000000</td>\n",
       "      <td>1993</td>\n",
       "      <td>1993</td>\n",
       "      <td>0.0</td>\n",
       "      <td>low_amount</td>\n",
       "      <td>(-2.19, 438.0]</td>\n",
       "    </tr>\n",
       "    <tr>\n",
       "      <th>10</th>\n",
       "      <td>505240</td>\n",
       "      <td>1726</td>\n",
       "      <td>1993-01-03</td>\n",
       "      <td>CREDIT</td>\n",
       "      <td>CREDIT IN CASH</td>\n",
       "      <td>1000.0</td>\n",
       "      <td>1000.0</td>\n",
       "      <td>Unknown</td>\n",
       "      <td>Unknown</td>\n",
       "      <td>Unknown</td>\n",
       "      <td>...</td>\n",
       "      <td>east Bohemia</td>\n",
       "      <td>7.895500e+04</td>\n",
       "      <td>9060.000000</td>\n",
       "      <td>2.440000</td>\n",
       "      <td>1717.000000</td>\n",
       "      <td>1993</td>\n",
       "      <td>1993</td>\n",
       "      <td>0.0</td>\n",
       "      <td>low_amount</td>\n",
       "      <td>(-2.19, 438.0]</td>\n",
       "    </tr>\n",
       "    <tr>\n",
       "      <th>11</th>\n",
       "      <td>144541</td>\n",
       "      <td>485</td>\n",
       "      <td>1993-01-04</td>\n",
       "      <td>CREDIT</td>\n",
       "      <td>CREDIT IN CASH</td>\n",
       "      <td>300.0</td>\n",
       "      <td>300.0</td>\n",
       "      <td>Unknown</td>\n",
       "      <td>Unknown</td>\n",
       "      <td>Unknown</td>\n",
       "      <td>...</td>\n",
       "      <td>central Bohemia</td>\n",
       "      <td>7.796300e+04</td>\n",
       "      <td>8546.000000</td>\n",
       "      <td>4.020000</td>\n",
       "      <td>3120.000000</td>\n",
       "      <td>1993</td>\n",
       "      <td>1993</td>\n",
       "      <td>0.0</td>\n",
       "      <td>low_amount</td>\n",
       "      <td>(-2.19, 438.0]</td>\n",
       "    </tr>\n",
       "    <tr>\n",
       "      <th>12</th>\n",
       "      <td>637741</td>\n",
       "      <td>2177</td>\n",
       "      <td>1993-01-04</td>\n",
       "      <td>CREDIT</td>\n",
       "      <td>CREDIT IN CASH</td>\n",
       "      <td>800.0</td>\n",
       "      <td>800.0</td>\n",
       "      <td>Unknown</td>\n",
       "      <td>Unknown</td>\n",
       "      <td>Unknown</td>\n",
       "      <td>...</td>\n",
       "      <td>south Moravia</td>\n",
       "      <td>1.456880e+05</td>\n",
       "      <td>8544.000000</td>\n",
       "      <td>1.860000</td>\n",
       "      <td>2906.000000</td>\n",
       "      <td>1993</td>\n",
       "      <td>1993</td>\n",
       "      <td>0.0</td>\n",
       "      <td>low_amount</td>\n",
       "      <td>(-2.19, 438.0]</td>\n",
       "    </tr>\n",
       "    <tr>\n",
       "      <th>13</th>\n",
       "      <td>689827</td>\n",
       "      <td>2357</td>\n",
       "      <td>1993-01-04</td>\n",
       "      <td>CREDIT</td>\n",
       "      <td>CREDIT IN CASH</td>\n",
       "      <td>800.0</td>\n",
       "      <td>800.0</td>\n",
       "      <td>Unknown</td>\n",
       "      <td>Unknown</td>\n",
       "      <td>Unknown</td>\n",
       "      <td>...</td>\n",
       "      <td>south Bohemia</td>\n",
       "      <td>5.142800e+04</td>\n",
       "      <td>8402.000000</td>\n",
       "      <td>3.980000</td>\n",
       "      <td>1099.000000</td>\n",
       "      <td>1993</td>\n",
       "      <td>1993</td>\n",
       "      <td>0.0</td>\n",
       "      <td>low_amount</td>\n",
       "      <td>(-2.19, 438.0]</td>\n",
       "    </tr>\n",
       "    <tr>\n",
       "      <th>14</th>\n",
       "      <td>846006</td>\n",
       "      <td>2881</td>\n",
       "      <td>1993-01-04</td>\n",
       "      <td>CREDIT</td>\n",
       "      <td>CREDIT IN CASH</td>\n",
       "      <td>700.0</td>\n",
       "      <td>700.0</td>\n",
       "      <td>Unknown</td>\n",
       "      <td>Unknown</td>\n",
       "      <td>Unknown</td>\n",
       "      <td>...</td>\n",
       "      <td>north Moravia</td>\n",
       "      <td>2.853870e+05</td>\n",
       "      <td>10177.000000</td>\n",
       "      <td>7.750000</td>\n",
       "      <td>10108.000000</td>\n",
       "      <td>1993</td>\n",
       "      <td>1993</td>\n",
       "      <td>0.0</td>\n",
       "      <td>low_amount</td>\n",
       "      <td>(-2.19, 438.0]</td>\n",
       "    </tr>\n",
       "    <tr>\n",
       "      <th>15</th>\n",
       "      <td>637742</td>\n",
       "      <td>2177</td>\n",
       "      <td>1993-01-05</td>\n",
       "      <td>CREDIT</td>\n",
       "      <td>COLLECTION FROM ANOTHER BANK</td>\n",
       "      <td>5123.0</td>\n",
       "      <td>5923.0</td>\n",
       "      <td>PENSION</td>\n",
       "      <td>YZ</td>\n",
       "      <td>62457513.0</td>\n",
       "      <td>...</td>\n",
       "      <td>south Moravia</td>\n",
       "      <td>1.456880e+05</td>\n",
       "      <td>8544.000000</td>\n",
       "      <td>1.860000</td>\n",
       "      <td>2906.000000</td>\n",
       "      <td>1993</td>\n",
       "      <td>1993</td>\n",
       "      <td>1.0</td>\n",
       "      <td>low_amount</td>\n",
       "      <td>(-2.19, 438.0]</td>\n",
       "    </tr>\n",
       "    <tr>\n",
       "      <th>16</th>\n",
       "      <td>2908688</td>\n",
       "      <td>9635</td>\n",
       "      <td>1993-01-05</td>\n",
       "      <td>CREDIT</td>\n",
       "      <td>CREDIT IN CASH</td>\n",
       "      <td>400.0</td>\n",
       "      <td>400.0</td>\n",
       "      <td>Unknown</td>\n",
       "      <td>Unknown</td>\n",
       "      <td>Unknown</td>\n",
       "      <td>...</td>\n",
       "      <td>north Moravia</td>\n",
       "      <td>2.853870e+05</td>\n",
       "      <td>10177.000000</td>\n",
       "      <td>7.750000</td>\n",
       "      <td>10108.000000</td>\n",
       "      <td>1993</td>\n",
       "      <td>1993</td>\n",
       "      <td>0.0</td>\n",
       "      <td>low_amount</td>\n",
       "      <td>(-2.19, 438.0]</td>\n",
       "    </tr>\n",
       "    <tr>\n",
       "      <th>17</th>\n",
       "      <td>232961</td>\n",
       "      <td>793</td>\n",
       "      <td>1993-01-05</td>\n",
       "      <td>CREDIT</td>\n",
       "      <td>COLLECTION FROM ANOTHER BANK</td>\n",
       "      <td>3401.0</td>\n",
       "      <td>4201.0</td>\n",
       "      <td>Unknown</td>\n",
       "      <td>IJ</td>\n",
       "      <td>6149286.0</td>\n",
       "      <td>...</td>\n",
       "      <td>east Bohemia</td>\n",
       "      <td>1.625800e+05</td>\n",
       "      <td>9538.000000</td>\n",
       "      <td>3.500345</td>\n",
       "      <td>5410.000000</td>\n",
       "      <td>1993</td>\n",
       "      <td>1993</td>\n",
       "      <td>2.0</td>\n",
       "      <td>low_amount</td>\n",
       "      <td>(-2.19, 438.0]</td>\n",
       "    </tr>\n",
       "    <tr>\n",
       "      <th>18</th>\n",
       "      <td>192096</td>\n",
       "      <td>652</td>\n",
       "      <td>1993-01-05</td>\n",
       "      <td>CREDIT</td>\n",
       "      <td>CREDIT IN CASH</td>\n",
       "      <td>700.0</td>\n",
       "      <td>700.0</td>\n",
       "      <td>Unknown</td>\n",
       "      <td>Unknown</td>\n",
       "      <td>Unknown</td>\n",
       "      <td>...</td>\n",
       "      <td>south Bohemia</td>\n",
       "      <td>1.033470e+05</td>\n",
       "      <td>9104.000000</td>\n",
       "      <td>2.070000</td>\n",
       "      <td>2354.000000</td>\n",
       "      <td>1993</td>\n",
       "      <td>1993</td>\n",
       "      <td>0.0</td>\n",
       "      <td>low_amount</td>\n",
       "      <td>(-2.19, 438.0]</td>\n",
       "    </tr>\n",
       "    <tr>\n",
       "      <th>19</th>\n",
       "      <td>542215</td>\n",
       "      <td>1844</td>\n",
       "      <td>1993-01-06</td>\n",
       "      <td>CREDIT</td>\n",
       "      <td>CREDIT IN CASH</td>\n",
       "      <td>500.0</td>\n",
       "      <td>500.0</td>\n",
       "      <td>Unknown</td>\n",
       "      <td>Unknown</td>\n",
       "      <td>Unknown</td>\n",
       "      <td>...</td>\n",
       "      <td>east Bohemia</td>\n",
       "      <td>1.056060e+05</td>\n",
       "      <td>8254.000000</td>\n",
       "      <td>3.760000</td>\n",
       "      <td>2325.000000</td>\n",
       "      <td>1993</td>\n",
       "      <td>1993</td>\n",
       "      <td>0.0</td>\n",
       "      <td>low_amount</td>\n",
       "      <td>(-2.19, 438.0]</td>\n",
       "    </tr>\n",
       "  </tbody>\n",
       "</table>\n",
       "<p>20 rows × 26 columns</p>\n",
       "</div>"
      ],
      "text/plain": [
       "    trans_id  account_id       date    type                operation_type  \\\n",
       "0     695247        2378 1993-01-01  CREDIT                CREDIT IN CASH   \n",
       "1     171812         576 1993-01-01  CREDIT                CREDIT IN CASH   \n",
       "2     207264         704 1993-01-01  CREDIT                CREDIT IN CASH   \n",
       "3    1117247        3818 1993-01-01  CREDIT                CREDIT IN CASH   \n",
       "4     579373        1972 1993-01-02  CREDIT                CREDIT IN CASH   \n",
       "5     771035        2632 1993-01-02  CREDIT                CREDIT IN CASH   \n",
       "6     452728        1539 1993-01-03  CREDIT                CREDIT IN CASH   \n",
       "7     725751        2484 1993-01-03  CREDIT                CREDIT IN CASH   \n",
       "8     497211        1695 1993-01-03  CREDIT                CREDIT IN CASH   \n",
       "9     232960         793 1993-01-03  CREDIT                CREDIT IN CASH   \n",
       "10    505240        1726 1993-01-03  CREDIT                CREDIT IN CASH   \n",
       "11    144541         485 1993-01-04  CREDIT                CREDIT IN CASH   \n",
       "12    637741        2177 1993-01-04  CREDIT                CREDIT IN CASH   \n",
       "13    689827        2357 1993-01-04  CREDIT                CREDIT IN CASH   \n",
       "14    846006        2881 1993-01-04  CREDIT                CREDIT IN CASH   \n",
       "15    637742        2177 1993-01-05  CREDIT  COLLECTION FROM ANOTHER BANK   \n",
       "16   2908688        9635 1993-01-05  CREDIT                CREDIT IN CASH   \n",
       "17    232961         793 1993-01-05  CREDIT  COLLECTION FROM ANOTHER BANK   \n",
       "18    192096         652 1993-01-05  CREDIT                CREDIT IN CASH   \n",
       "19    542215        1844 1993-01-06  CREDIT                CREDIT IN CASH   \n",
       "\n",
       "    amount  balance description partner_bank partner_account  ...  \\\n",
       "0    700.0    700.0     Unknown      Unknown         Unknown  ...   \n",
       "1    900.0    900.0     Unknown      Unknown         Unknown  ...   \n",
       "2   1000.0   1000.0     Unknown      Unknown         Unknown  ...   \n",
       "3    600.0    600.0     Unknown      Unknown         Unknown  ...   \n",
       "4    400.0    400.0     Unknown      Unknown         Unknown  ...   \n",
       "5   1100.0   1100.0     Unknown      Unknown         Unknown  ...   \n",
       "6    600.0    600.0     Unknown      Unknown         Unknown  ...   \n",
       "7   1100.0   1100.0     Unknown      Unknown         Unknown  ...   \n",
       "8    200.0    200.0     Unknown      Unknown         Unknown  ...   \n",
       "9    800.0    800.0     Unknown      Unknown         Unknown  ...   \n",
       "10  1000.0   1000.0     Unknown      Unknown         Unknown  ...   \n",
       "11   300.0    300.0     Unknown      Unknown         Unknown  ...   \n",
       "12   800.0    800.0     Unknown      Unknown         Unknown  ...   \n",
       "13   800.0    800.0     Unknown      Unknown         Unknown  ...   \n",
       "14   700.0    700.0     Unknown      Unknown         Unknown  ...   \n",
       "15  5123.0   5923.0     PENSION           YZ      62457513.0  ...   \n",
       "16   400.0    400.0     Unknown      Unknown         Unknown  ...   \n",
       "17  3401.0   4201.0     Unknown           IJ       6149286.0  ...   \n",
       "18   700.0    700.0     Unknown      Unknown         Unknown  ...   \n",
       "19   500.0    500.0     Unknown      Unknown         Unknown  ...   \n",
       "\n",
       "             region    population average_salary unemployment_rate  \\\n",
       "0     south Bohemia  9.393100e+04    8427.000000          1.540000   \n",
       "1     south Moravia  1.570420e+05    9533.177336          2.430000   \n",
       "2     south Moravia  1.570420e+05    9533.177336          2.430000   \n",
       "3     north Moravia  3.238700e+05   10673.000000          5.440000   \n",
       "4            Uknown  2.703257e+05    9533.177336          3.500345   \n",
       "5      west Bohemia  1.226030e+05    8991.000000          2.010000   \n",
       "6            Prague  1.204953e+06   12541.000000          0.430000   \n",
       "7     north Moravia  3.238700e+05   10673.000000          5.440000   \n",
       "8     north Moravia  1.273690e+05    8369.000000          3.500345   \n",
       "9      east Bohemia  1.625800e+05    9538.000000          3.500345   \n",
       "10     east Bohemia  7.895500e+04    9060.000000          2.440000   \n",
       "11  central Bohemia  7.796300e+04    8546.000000          4.020000   \n",
       "12    south Moravia  1.456880e+05    8544.000000          1.860000   \n",
       "13    south Bohemia  5.142800e+04    8402.000000          3.980000   \n",
       "14    north Moravia  2.853870e+05   10177.000000          7.750000   \n",
       "15    south Moravia  1.456880e+05    8544.000000          1.860000   \n",
       "16    north Moravia  2.853870e+05   10177.000000          7.750000   \n",
       "17     east Bohemia  1.625800e+05    9538.000000          3.500345   \n",
       "18    south Bohemia  1.033470e+05    9104.000000          2.070000   \n",
       "19     east Bohemia  1.056060e+05    8254.000000          3.760000   \n",
       "\n",
       "    num_committed_crimes account_open_year trans_year  account_age_days  \\\n",
       "0            1913.000000              1993       1993               0.0   \n",
       "1            3894.000000              1993       1993               0.0   \n",
       "2            3894.000000              1993       1993               0.0   \n",
       "3           18347.000000              1993       1993               0.0   \n",
       "4           17869.983187              1993       1993               0.0   \n",
       "5            5273.000000              1993       1993               0.0   \n",
       "6           99107.000000              1993       1993               0.0   \n",
       "7           18347.000000              1993       1993               0.0   \n",
       "8            2807.000000              1993       1993               0.0   \n",
       "9            5410.000000              1993       1993               0.0   \n",
       "10           1717.000000              1993       1993               0.0   \n",
       "11           3120.000000              1993       1993               0.0   \n",
       "12           2906.000000              1993       1993               0.0   \n",
       "13           1099.000000              1993       1993               0.0   \n",
       "14          10108.000000              1993       1993               0.0   \n",
       "15           2906.000000              1993       1993               1.0   \n",
       "16          10108.000000              1993       1993               0.0   \n",
       "17           5410.000000              1993       1993               2.0   \n",
       "18           2354.000000              1993       1993               0.0   \n",
       "19           2325.000000              1993       1993               0.0   \n",
       "\n",
       "    amount_category  account_age_days_category  \n",
       "0        low_amount             (-2.19, 438.0]  \n",
       "1        low_amount             (-2.19, 438.0]  \n",
       "2        low_amount             (-2.19, 438.0]  \n",
       "3        low_amount             (-2.19, 438.0]  \n",
       "4        low_amount             (-2.19, 438.0]  \n",
       "5        low_amount             (-2.19, 438.0]  \n",
       "6        low_amount             (-2.19, 438.0]  \n",
       "7        low_amount             (-2.19, 438.0]  \n",
       "8        low_amount             (-2.19, 438.0]  \n",
       "9        low_amount             (-2.19, 438.0]  \n",
       "10       low_amount             (-2.19, 438.0]  \n",
       "11       low_amount             (-2.19, 438.0]  \n",
       "12       low_amount             (-2.19, 438.0]  \n",
       "13       low_amount             (-2.19, 438.0]  \n",
       "14       low_amount             (-2.19, 438.0]  \n",
       "15       low_amount             (-2.19, 438.0]  \n",
       "16       low_amount             (-2.19, 438.0]  \n",
       "17       low_amount             (-2.19, 438.0]  \n",
       "18       low_amount             (-2.19, 438.0]  \n",
       "19       low_amount             (-2.19, 438.0]  \n",
       "\n",
       "[20 rows x 26 columns]"
      ]
     },
     "execution_count": 60,
     "metadata": {},
     "output_type": "execute_result"
    }
   ],
   "source": [
    "all_data.head(20)"
   ]
  }
 ],
 "metadata": {
  "kernelspec": {
   "display_name": "Python 3.9.7 ('base')",
   "language": "python",
   "name": "python3"
  },
  "language_info": {
   "codemirror_mode": {
    "name": "ipython",
    "version": 3
   },
   "file_extension": ".py",
   "mimetype": "text/x-python",
   "name": "python",
   "nbconvert_exporter": "python",
   "pygments_lexer": "ipython3",
   "version": "3.9.7"
  },
  "vscode": {
   "interpreter": {
    "hash": "1772883de8f5048b32b5a80a9c1221ba12749e1db6a2c80a927e2029f0e9afd4"
   }
  }
 },
 "nbformat": 4,
 "nbformat_minor": 4
}
